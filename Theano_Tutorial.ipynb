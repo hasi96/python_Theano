{
  "nbformat": 4,
  "nbformat_minor": 0,
  "metadata": {
    "colab": {
      "name": "Theano_Tutorial.ipynb",
      "version": "0.3.2",
      "views": {},
      "default_view": {},
      "provenance": [],
      "collapsed_sections": []
    },
    "kernelspec": {
      "name": "python3",
      "display_name": "Python 3"
    }
  },
  "cells": [
    {
      "metadata": {
        "id": "2dKA3TVczD5k",
        "colab_type": "code",
        "colab": {
          "autoexec": {
            "startup": false,
            "wait_interval": 0
          },
          "base_uri": "https://localhost:8080/",
          "height": 221
        },
        "outputId": "ee70229a-4141-41d4-e7b6-4c7907de09af",
        "executionInfo": {
          "status": "ok",
          "timestamp": 1528090803053,
          "user_tz": 420,
          "elapsed": 8296,
          "user": {
            "displayName": "Hasitha Chikkala",
            "photoUrl": "https://lh3.googleusercontent.com/a/default-user=s128",
            "userId": "105699343881197014514"
          }
        }
      },
      "cell_type": "code",
      "source": [
        "!pip install theano"
      ],
      "execution_count": 3,
      "outputs": [
        {
          "output_type": "stream",
          "text": [
            "Collecting theano\n",
            "\u001b[?25l  Downloading https://files.pythonhosted.org/packages/99/dd/e43e3da5dd52f1468def552ed3e752bfd6958369478cc906ff07b21af92e/Theano-1.0.2.tar.gz (2.8MB)\n",
            "\u001b[K    100% |████████████████████████████████| 2.8MB 7.8MB/s \n",
            "\u001b[?25hRequirement already satisfied: numpy>=1.9.1 in /usr/local/lib/python3.6/dist-packages (from theano) (1.14.3)\n",
            "Requirement already satisfied: scipy>=0.14 in /usr/local/lib/python3.6/dist-packages (from theano) (0.19.1)\n",
            "Requirement already satisfied: six>=1.9.0 in /usr/local/lib/python3.6/dist-packages (from theano) (1.11.0)\n",
            "Building wheels for collected packages: theano\n",
            "  Running setup.py bdist_wheel for theano ... \u001b[?25l-\b \b\\\b \b|\b \b/\b \b-\b \b\\\b \b|\b \b/\b \bdone\n",
            "\u001b[?25h  Stored in directory: /content/.cache/pip/wheels/87/1e/28/4a63195927452fb42d4ea6d1e5b3b1690409d66802cc9e1e6e\n",
            "Successfully built theano\n",
            "Installing collected packages: theano\n",
            "Successfully installed theano-1.0.2\n"
          ],
          "name": "stdout"
        }
      ]
    },
    {
      "metadata": {
        "id": "1OymI5VKz8WX",
        "colab_type": "text"
      },
      "cell_type": "markdown",
      "source": [
        "Using Theano it is possible to attain speeds rivaling hand-crafted C implementations for problems involving large amounts of data"
      ]
    },
    {
      "metadata": {
        "id": "6N-ktafZzWvr",
        "colab_type": "text"
      },
      "cell_type": "markdown",
      "source": [
        ""
      ]
    },
    {
      "metadata": {
        "id": "UOzzugZVzWCi",
        "colab_type": "code",
        "colab": {
          "autoexec": {
            "startup": false,
            "wait_interval": 0
          }
        }
      },
      "cell_type": "code",
      "source": [
        "import numpy\n",
        "import theano\n",
        "from theano import tensor\n",
        "\n",
        "a = tensor.dscalar()\n",
        "b = tensor.dscalar()\n",
        "c = a + b\n",
        "\n",
        "f = theano.function([a,b], c)\n",
        "\n",
        "# bind 1.5 to 'a', 2.5 to 'b', and evaluate 'c'\n",
        "assert 4.0 == f(1.5, 2.5)"
      ],
      "execution_count": 0,
      "outputs": []
    },
    {
      "metadata": {
        "id": "U1SSchmw0qpk",
        "colab_type": "text"
      },
      "cell_type": "markdown",
      "source": [
        "Now that we’ve created our function we can use it:"
      ]
    },
    {
      "metadata": {
        "id": "0qvW94TGzySS",
        "colab_type": "code",
        "colab": {
          "autoexec": {
            "startup": false,
            "wait_interval": 0
          },
          "base_uri": "https://localhost:8080/",
          "height": 34
        },
        "outputId": "8ae92a19-b1f7-4ec8-cf4f-8186e34464a3",
        "executionInfo": {
          "status": "ok",
          "timestamp": 1528057359937,
          "user_tz": 420,
          "elapsed": 513,
          "user": {
            "displayName": "Hasitha Chikkala",
            "photoUrl": "https://lh3.googleusercontent.com/a/default-user=s128",
            "userId": "105699343881197014514"
          }
        }
      },
      "cell_type": "code",
      "source": [
        "numpy.allclose(f(16.3, 12.1), 28.4)"
      ],
      "execution_count": 9,
      "outputs": [
        {
          "output_type": "execute_result",
          "data": {
            "text/plain": [
              "True"
            ]
          },
          "metadata": {
            "tags": []
          },
          "execution_count": 9
        }
      ]
    },
    {
      "metadata": {
        "id": "o_cbBqbG0xjV",
        "colab_type": "code",
        "colab": {
          "autoexec": {
            "startup": false,
            "wait_interval": 0
          },
          "base_uri": "https://localhost:8080/",
          "height": 51
        },
        "outputId": "6d17a42d-8835-43f6-c063-885af215d7aa",
        "executionInfo": {
          "status": "ok",
          "timestamp": 1528090814487,
          "user_tz": 420,
          "elapsed": 418,
          "user": {
            "displayName": "Hasitha Chikkala",
            "photoUrl": "https://lh3.googleusercontent.com/a/default-user=s128",
            "userId": "105699343881197014514"
          }
        }
      },
      "cell_type": "code",
      "source": [
        "from theano import pp\n",
        "print(pp(c))\n",
        "\n",
        "numpy.allclose(c.eval({a : 16.3, b : 12.1}), 28.4)\n"
      ],
      "execution_count": 5,
      "outputs": [
        {
          "output_type": "stream",
          "text": [
            "(<TensorType(float64, scalar)> + <TensorType(float64, scalar)>)\n"
          ],
          "name": "stdout"
        },
        {
          "output_type": "execute_result",
          "data": {
            "text/plain": [
              "True"
            ]
          },
          "metadata": {
            "tags": []
          },
          "execution_count": 5
        }
      ]
    },
    {
      "metadata": {
        "id": "6lSxFzU43rIC",
        "colab_type": "text"
      },
      "cell_type": "markdown",
      "source": [
        "eval() will be slow the first time you call it on a variable – it needs to call function() to compile the expression behind the scenes. Subsequent calls to eval() on that same variable will be fast, because the variable caches the compiled function."
      ]
    },
    {
      "metadata": {
        "id": "SLfBVLms3l4w",
        "colab_type": "code",
        "colab": {
          "autoexec": {
            "startup": false,
            "wait_interval": 0
          }
        }
      },
      "cell_type": "code",
      "source": [
        "x = tensor.dmatrix('x')\n",
        "y = tensor.dmatrix('y')\n",
        "z = x + y\n",
        "f = theano.function([x, y], z)"
      ],
      "execution_count": 0,
      "outputs": []
    },
    {
      "metadata": {
        "id": "WNcXJQCQ4FDD",
        "colab_type": "text"
      },
      "cell_type": "markdown",
      "source": [
        "dmatrix is the Type for matrices of doubles. Then we can use our new function on 2D arrays or numpy arrays\n"
      ]
    },
    {
      "metadata": {
        "id": "IvvmEZ0O35zR",
        "colab_type": "code",
        "colab": {
          "autoexec": {
            "startup": false,
            "wait_interval": 0
          },
          "base_uri": "https://localhost:8080/",
          "height": 51
        },
        "outputId": "7ecfa24f-ea12-4cd8-dbc9-887096f275c3",
        "executionInfo": {
          "status": "ok",
          "timestamp": 1528057363853,
          "user_tz": 420,
          "elapsed": 369,
          "user": {
            "displayName": "Hasitha Chikkala",
            "photoUrl": "https://lh3.googleusercontent.com/a/default-user=s128",
            "userId": "105699343881197014514"
          }
        }
      },
      "cell_type": "code",
      "source": [
        "f([[1, 2], [3, 4]], [[10, 20], [30, 40]])\n",
        "f(numpy.array([[1, 2], [3, 4]]), numpy.array([[10, 20], [30, 40]]))"
      ],
      "execution_count": 12,
      "outputs": [
        {
          "output_type": "execute_result",
          "data": {
            "text/plain": [
              "array([[11., 22.],\n",
              "       [33., 44.]])"
            ]
          },
          "metadata": {
            "tags": []
          },
          "execution_count": 12
        }
      ]
    },
    {
      "metadata": {
        "id": "E6-mQLIt4cUY",
        "colab_type": "text"
      },
      "cell_type": "markdown",
      "source": [
        "\n",
        "\n",
        "\n",
        "1. bscalar, bvector, bmatrix, brow, bcol - can be used to store as bytes\n",
        "2. wscalar, wmatrix, ..... - can be used for 16-bit integers\n",
        "3. iscalar, imatrix, ...... - can be used for 32-bit integers\n",
        "4. lscalar, lmatrix, ...... - can be used for 64-bit integers\n",
        "5. fscalar, fmatrix, .... - can be used for float\n",
        "6. dscalar, dmatrix, .... - can be used for double\n",
        "7. *cscalar*, cmatrix,.... - can be used for complex kind of variables\n",
        "\n",
        "\n",
        "\n",
        "\n"
      ]
    },
    {
      "metadata": {
        "id": "teGhxlDx4KPg",
        "colab_type": "code",
        "colab": {
          "autoexec": {
            "startup": false,
            "wait_interval": 0
          },
          "base_uri": "https://localhost:8080/",
          "height": 34
        },
        "outputId": "3bf26783-e3f4-49be-ecd6-6181ff3bac5b",
        "executionInfo": {
          "status": "ok",
          "timestamp": 1528057365797,
          "user_tz": 420,
          "elapsed": 1823,
          "user": {
            "displayName": "Hasitha Chikkala",
            "photoUrl": "https://lh3.googleusercontent.com/a/default-user=s128",
            "userId": "105699343881197014514"
          }
        }
      },
      "cell_type": "code",
      "source": [
        "a = theano.tensor.vector() \n",
        "out = a + a ** 10              \n",
        "f = theano.function([a], out)  \n",
        "print(f([0, 1, 2]))"
      ],
      "execution_count": 13,
      "outputs": [
        {
          "output_type": "stream",
          "text": [
            "[   0.    2. 1026.]\n"
          ],
          "name": "stdout"
        }
      ]
    },
    {
      "metadata": {
        "id": "1Ku2r6Jb5isn",
        "colab_type": "code",
        "colab": {
          "autoexec": {
            "startup": false,
            "wait_interval": 0
          },
          "base_uri": "https://localhost:8080/",
          "height": 34
        },
        "outputId": "b721a5d2-3870-48c9-8bdd-2565ce4976f9",
        "executionInfo": {
          "status": "ok",
          "timestamp": 1528057367061,
          "user_tz": 420,
          "elapsed": 1205,
          "user": {
            "displayName": "Hasitha Chikkala",
            "photoUrl": "https://lh3.googleusercontent.com/a/default-user=s128",
            "userId": "105699343881197014514"
          }
        }
      },
      "cell_type": "code",
      "source": [
        "b = theano.tensor.vector()\n",
        "out = a ** 2 + b ** 2 + 2 * a * b\n",
        "f1 = theano.function([a, b],out)\n",
        "print(f1([1, 2], [4, 5]))\n"
      ],
      "execution_count": 14,
      "outputs": [
        {
          "output_type": "stream",
          "text": [
            "[25. 49.]\n"
          ],
          "name": "stdout"
        }
      ]
    },
    {
      "metadata": {
        "id": "QtiM-wYR5xTZ",
        "colab_type": "code",
        "colab": {
          "autoexec": {
            "startup": false,
            "wait_interval": 0
          },
          "base_uri": "https://localhost:8080/",
          "height": 51
        },
        "outputId": "a7370553-2916-4682-afc2-2031107c8bd7",
        "executionInfo": {
          "status": "ok",
          "timestamp": 1528057369472,
          "user_tz": 420,
          "elapsed": 2358,
          "user": {
            "displayName": "Hasitha Chikkala",
            "photoUrl": "https://lh3.googleusercontent.com/a/default-user=s128",
            "userId": "105699343881197014514"
          }
        }
      },
      "cell_type": "code",
      "source": [
        "x = theano.tensor.dmatrix('x')\n",
        "s = 1 / (1 + theano.tensor.exp(-x))\n",
        "logistic = theano.function([x], s)\n",
        "logistic([[0, 1], [-1, -2]])\n",
        "\n",
        "s2 = (1 + theano.tensor.tanh(x / 2)) / 2\n",
        "logistic2 = theano.function([x], s2)\n",
        "logistic2([[0, 1], [-1, -2]])"
      ],
      "execution_count": 15,
      "outputs": [
        {
          "output_type": "execute_result",
          "data": {
            "text/plain": [
              "array([[0.5       , 0.73105858],\n",
              "       [0.26894142, 0.11920292]])"
            ]
          },
          "metadata": {
            "tags": []
          },
          "execution_count": 15
        }
      ]
    },
    {
      "metadata": {
        "id": "Pmxp_K5E9mBN",
        "colab_type": "text"
      },
      "cell_type": "markdown",
      "source": [
        "Can also perform multiple functions on particular data "
      ]
    },
    {
      "metadata": {
        "id": "XuxvYynS80HW",
        "colab_type": "code",
        "colab": {
          "autoexec": {
            "startup": false,
            "wait_interval": 0
          },
          "base_uri": "https://localhost:8080/",
          "height": 85
        },
        "outputId": "9496e41d-07c2-425a-9713-dbb64988b0ad",
        "executionInfo": {
          "status": "ok",
          "timestamp": 1528057372794,
          "user_tz": 420,
          "elapsed": 3229,
          "user": {
            "displayName": "Hasitha Chikkala",
            "photoUrl": "https://lh3.googleusercontent.com/a/default-user=s128",
            "userId": "105699343881197014514"
          }
        }
      },
      "cell_type": "code",
      "source": [
        "a, b = theano.tensor.dmatrices('a', 'b')\n",
        "diff = a - b\n",
        "abs_diff = abs(diff)\n",
        "diff_squared = diff**2\n",
        "prod = a*b\n",
        "f = theano.function([a, b], [diff, abs_diff, diff_squared])\n",
        "f([[1, 1], [1, 1]], [[0, 1], [2, 3]])"
      ],
      "execution_count": 16,
      "outputs": [
        {
          "output_type": "execute_result",
          "data": {
            "text/plain": [
              "[array([[ 1.,  0.],\n",
              "        [-1., -2.]]), array([[1., 0.],\n",
              "        [1., 2.]]), array([[1., 0.],\n",
              "        [1., 4.]])]"
            ]
          },
          "metadata": {
            "tags": []
          },
          "execution_count": 16
        }
      ]
    },
    {
      "metadata": {
        "id": "TfRfX-Tg9zTd",
        "colab_type": "code",
        "colab": {
          "autoexec": {
            "startup": false,
            "wait_interval": 0
          },
          "base_uri": "https://localhost:8080/",
          "height": 34
        },
        "outputId": "86f66c26-46fc-4596-94e1-429d25f91967",
        "executionInfo": {
          "status": "ok",
          "timestamp": 1528057373248,
          "user_tz": 420,
          "elapsed": 400,
          "user": {
            "displayName": "Hasitha Chikkala",
            "photoUrl": "https://lh3.googleusercontent.com/a/default-user=s128",
            "userId": "105699343881197014514"
          }
        }
      },
      "cell_type": "code",
      "source": [
        "x, y = theano.tensor.dscalars('x', 'y')\n",
        "z = x + y\n",
        "f = theano.function([x, theano.In(y, value=1)], z)\n",
        "f(33)\n",
        "f(33,8)\n"
      ],
      "execution_count": 17,
      "outputs": [
        {
          "output_type": "execute_result",
          "data": {
            "text/plain": [
              "array(41.)"
            ]
          },
          "metadata": {
            "tags": []
          },
          "execution_count": 17
        }
      ]
    },
    {
      "metadata": {
        "id": "PcgC_O91D5Lw",
        "colab_type": "text"
      },
      "cell_type": "markdown",
      "source": [
        "Can also add default values "
      ]
    },
    {
      "metadata": {
        "id": "AsTJQSyH-bNV",
        "colab_type": "code",
        "colab": {
          "autoexec": {
            "startup": false,
            "wait_interval": 0
          },
          "base_uri": "https://localhost:8080/",
          "height": 34
        },
        "outputId": "9a9fe2d2-f294-44d0-f905-6199019f1d89",
        "executionInfo": {
          "status": "ok",
          "timestamp": 1528057374500,
          "user_tz": 420,
          "elapsed": 1112,
          "user": {
            "displayName": "Hasitha Chikkala",
            "photoUrl": "https://lh3.googleusercontent.com/a/default-user=s128",
            "userId": "105699343881197014514"
          }
        }
      },
      "cell_type": "code",
      "source": [
        "w = theano.tensor.dscalars('w')\n",
        "z = (x + y) * w\n",
        "f = theano.function([x, theano.In(y, value=1), theano.In(w, value=2, name='w_by_name')], z)\n",
        "f(33, w_by_name=1, y=0)"
      ],
      "execution_count": 18,
      "outputs": [
        {
          "output_type": "execute_result",
          "data": {
            "text/plain": [
              "array(33.)"
            ]
          },
          "metadata": {
            "tags": []
          },
          "execution_count": 18
        }
      ]
    },
    {
      "metadata": {
        "id": "OwXKOt51DyLN",
        "colab_type": "code",
        "colab": {
          "autoexec": {
            "startup": false,
            "wait_interval": 0
          },
          "base_uri": "https://localhost:8080/",
          "height": 34
        },
        "outputId": "d7dacdc4-4668-4f81-ee4d-5ffda4f91e37",
        "executionInfo": {
          "status": "ok",
          "timestamp": 1528057374967,
          "user_tz": 420,
          "elapsed": 437,
          "user": {
            "displayName": "Hasitha Chikkala",
            "photoUrl": "https://lh3.googleusercontent.com/a/default-user=s128",
            "userId": "105699343881197014514"
          }
        }
      },
      "cell_type": "code",
      "source": [
        "f(33, 2)"
      ],
      "execution_count": 19,
      "outputs": [
        {
          "output_type": "execute_result",
          "data": {
            "text/plain": [
              "array(70.)"
            ]
          },
          "metadata": {
            "tags": []
          },
          "execution_count": 19
        }
      ]
    },
    {
      "metadata": {
        "id": "FK5PL7uZF03s",
        "colab_type": "text"
      },
      "cell_type": "markdown",
      "source": [
        "Can also include shared variables whose state can be updated whenever the function is called"
      ]
    },
    {
      "metadata": {
        "id": "68RZp-TJEciZ",
        "colab_type": "code",
        "colab": {
          "autoexec": {
            "startup": false,
            "wait_interval": 0
          }
        }
      },
      "cell_type": "code",
      "source": [
        "from theano import shared\n",
        "state = shared(0)\n",
        "inc = theano.tensor.iscalar('inc')\n",
        "accumulator = theano.function([inc], state, updates=[(state, state+inc)])"
      ],
      "execution_count": 0,
      "outputs": []
    },
    {
      "metadata": {
        "id": "nfKTpmenEvRr",
        "colab_type": "code",
        "colab": {
          "autoexec": {
            "startup": false,
            "wait_interval": 0
          },
          "base_uri": "https://localhost:8080/",
          "height": 34
        },
        "outputId": "152f2d3c-ce8d-4930-ebea-ac1e24d2a511",
        "executionInfo": {
          "status": "ok",
          "timestamp": 1528057376722,
          "user_tz": 420,
          "elapsed": 342,
          "user": {
            "displayName": "Hasitha Chikkala",
            "photoUrl": "https://lh3.googleusercontent.com/a/default-user=s128",
            "userId": "105699343881197014514"
          }
        }
      },
      "cell_type": "code",
      "source": [
        "accumulator(5)"
      ],
      "execution_count": 21,
      "outputs": [
        {
          "output_type": "execute_result",
          "data": {
            "text/plain": [
              "array(0)"
            ]
          },
          "metadata": {
            "tags": []
          },
          "execution_count": 21
        }
      ]
    },
    {
      "metadata": {
        "id": "H4GitCSiFvRx",
        "colab_type": "code",
        "colab": {
          "autoexec": {
            "startup": false,
            "wait_interval": 0
          },
          "base_uri": "https://localhost:8080/",
          "height": 34
        },
        "outputId": "5cfba4b5-0ff3-4ff2-8d25-e9f5999b7b1a",
        "executionInfo": {
          "status": "ok",
          "timestamp": 1528057377175,
          "user_tz": 420,
          "elapsed": 337,
          "user": {
            "displayName": "Hasitha Chikkala",
            "photoUrl": "https://lh3.googleusercontent.com/a/default-user=s128",
            "userId": "105699343881197014514"
          }
        }
      },
      "cell_type": "code",
      "source": [
        "print(state.get_value())"
      ],
      "execution_count": 22,
      "outputs": [
        {
          "output_type": "stream",
          "text": [
            "5\n"
          ],
          "name": "stdout"
        }
      ]
    },
    {
      "metadata": {
        "id": "5SiLd7YGGWd6",
        "colab_type": "text"
      },
      "cell_type": "markdown",
      "source": [
        "To reset the state "
      ]
    },
    {
      "metadata": {
        "id": "LzYbpW8uGNx0",
        "colab_type": "code",
        "colab": {
          "autoexec": {
            "startup": false,
            "wait_interval": 0
          }
        }
      },
      "cell_type": "code",
      "source": [
        "state.set_value(-1)"
      ],
      "execution_count": 0,
      "outputs": []
    },
    {
      "metadata": {
        "id": "6xS2Lqq0GZm2",
        "colab_type": "code",
        "colab": {
          "autoexec": {
            "startup": false,
            "wait_interval": 0
          },
          "base_uri": "https://localhost:8080/",
          "height": 34
        },
        "outputId": "bb5f28b2-4d29-48c2-83dd-5d90bd75c9ac",
        "executionInfo": {
          "status": "ok",
          "timestamp": 1528057378147,
          "user_tz": 420,
          "elapsed": 372,
          "user": {
            "displayName": "Hasitha Chikkala",
            "photoUrl": "https://lh3.googleusercontent.com/a/default-user=s128",
            "userId": "105699343881197014514"
          }
        }
      },
      "cell_type": "code",
      "source": [
        "accumulator(5)"
      ],
      "execution_count": 24,
      "outputs": [
        {
          "output_type": "execute_result",
          "data": {
            "text/plain": [
              "array(-1)"
            ]
          },
          "metadata": {
            "tags": []
          },
          "execution_count": 24
        }
      ]
    },
    {
      "metadata": {
        "id": "_NzmmOdyGbQr",
        "colab_type": "code",
        "colab": {
          "autoexec": {
            "startup": false,
            "wait_interval": 0
          },
          "base_uri": "https://localhost:8080/",
          "height": 34
        },
        "outputId": "17d062df-ec77-42d1-cc0f-7b54c86c1a96",
        "executionInfo": {
          "status": "ok",
          "timestamp": 1528057379429,
          "user_tz": 420,
          "elapsed": 1164,
          "user": {
            "displayName": "Hasitha Chikkala",
            "photoUrl": "https://lh3.googleusercontent.com/a/default-user=s128",
            "userId": "105699343881197014514"
          }
        }
      },
      "cell_type": "code",
      "source": [
        " decrementor = theano.function([inc], state, updates=[(state, state-inc)]) #can use the same shared variable in different functions\n",
        " decrementor(2)"
      ],
      "execution_count": 25,
      "outputs": [
        {
          "output_type": "execute_result",
          "data": {
            "text/plain": [
              "array(4)"
            ]
          },
          "metadata": {
            "tags": []
          },
          "execution_count": 25
        }
      ]
    },
    {
      "metadata": {
        "id": "KcGvRflQeY5L",
        "colab_type": "text"
      },
      "cell_type": "markdown",
      "source": [
        "If you donot want to use the shared variable in a function, you can replace it with a different given value"
      ]
    },
    {
      "metadata": {
        "id": "hY7ZJniwGjS5",
        "colab_type": "code",
        "colab": {
          "autoexec": {
            "startup": false,
            "wait_interval": 0
          },
          "base_uri": "https://localhost:8080/",
          "height": 34
        },
        "outputId": "d3185f72-5675-4f7c-d7c6-e151e68c0c06",
        "executionInfo": {
          "status": "ok",
          "timestamp": 1528057380676,
          "user_tz": 420,
          "elapsed": 1129,
          "user": {
            "displayName": "Hasitha Chikkala",
            "photoUrl": "https://lh3.googleusercontent.com/a/default-user=s128",
            "userId": "105699343881197014514"
          }
        }
      },
      "cell_type": "code",
      "source": [
        "fn_of_state = state * 2 + inc\n",
        "foo = theano.tensor.scalar(dtype=state.dtype)\n",
        "skip_shared = theano.function([inc, foo], fn_of_state, givens=[(state, foo)])\n",
        "skip_shared(1, 3)\n"
      ],
      "execution_count": 26,
      "outputs": [
        {
          "output_type": "execute_result",
          "data": {
            "text/plain": [
              "array(7)"
            ]
          },
          "metadata": {
            "tags": []
          },
          "execution_count": 26
        }
      ]
    },
    {
      "metadata": {
        "id": "QbgVgItveq5q",
        "colab_type": "code",
        "colab": {
          "autoexec": {
            "startup": false,
            "wait_interval": 0
          },
          "base_uri": "https://localhost:8080/",
          "height": 34
        },
        "outputId": "0c4ef017-b403-4a5b-a360-8f811b7ae43e",
        "executionInfo": {
          "status": "ok",
          "timestamp": 1528057381318,
          "user_tz": 420,
          "elapsed": 610,
          "user": {
            "displayName": "Hasitha Chikkala",
            "photoUrl": "https://lh3.googleusercontent.com/a/default-user=s128",
            "userId": "105699343881197014514"
          }
        }
      },
      "cell_type": "code",
      "source": [
        "print(state.get_value())  #doesnot change previous state value"
      ],
      "execution_count": 27,
      "outputs": [
        {
          "output_type": "stream",
          "text": [
            "2\n"
          ],
          "name": "stdout"
        }
      ]
    },
    {
      "metadata": {
        "id": "VISTWYkofH9e",
        "colab_type": "code",
        "colab": {
          "autoexec": {
            "startup": false,
            "wait_interval": 0
          },
          "base_uri": "https://localhost:8080/",
          "height": 34
        },
        "outputId": "7c38118f-9245-48ec-b885-9477e231419c",
        "executionInfo": {
          "status": "ok",
          "timestamp": 1528057381888,
          "user_tz": 420,
          "elapsed": 451,
          "user": {
            "displayName": "Hasitha Chikkala",
            "photoUrl": "https://lh3.googleusercontent.com/a/default-user=s128",
            "userId": "105699343881197014514"
          }
        }
      },
      "cell_type": "code",
      "source": [
        "new_state = theano.shared(0)\n",
        "new_accumulator = accumulator.copy(swap={state:new_state})\n",
        "new_accumulator(100)\n",
        "print(new_state.get_value())"
      ],
      "execution_count": 28,
      "outputs": [
        {
          "output_type": "stream",
          "text": [
            "100\n"
          ],
          "name": "stdout"
        }
      ]
    },
    {
      "metadata": {
        "id": "bV70sryKft9z",
        "colab_type": "code",
        "colab": {
          "autoexec": {
            "startup": false,
            "wait_interval": 0
          },
          "base_uri": "https://localhost:8080/",
          "height": 34
        },
        "outputId": "493c9561-4434-4a6b-88e2-b6d02e722f18",
        "executionInfo": {
          "status": "ok",
          "timestamp": 1528057382530,
          "user_tz": 420,
          "elapsed": 404,
          "user": {
            "displayName": "Hasitha Chikkala",
            "photoUrl": "https://lh3.googleusercontent.com/a/default-user=s128",
            "userId": "105699343881197014514"
          }
        }
      },
      "cell_type": "code",
      "source": [
        "print(state.get_value()) #old functions state value does not change "
      ],
      "execution_count": 29,
      "outputs": [
        {
          "output_type": "stream",
          "text": [
            "2\n"
          ],
          "name": "stdout"
        }
      ]
    },
    {
      "metadata": {
        "id": "Wl8mTV2efyWy",
        "colab_type": "code",
        "colab": {
          "autoexec": {
            "startup": false,
            "wait_interval": 0
          },
          "base_uri": "https://localhost:8080/",
          "height": 34
        },
        "outputId": "ebac4265-c8c3-43cd-cf6f-21203b3b2dfa",
        "executionInfo": {
          "status": "ok",
          "timestamp": 1528057383024,
          "user_tz": 420,
          "elapsed": 358,
          "user": {
            "displayName": "Hasitha Chikkala",
            "photoUrl": "https://lh3.googleusercontent.com/a/default-user=s128",
            "userId": "105699343881197014514"
          }
        }
      },
      "cell_type": "code",
      "source": [
        "null_accumulator = accumulator.copy(delete_updates=True)  #can also avoid updates \n",
        "null_accumulator(9000)"
      ],
      "execution_count": 30,
      "outputs": [
        {
          "output_type": "execute_result",
          "data": {
            "text/plain": [
              "[array(2)]"
            ]
          },
          "metadata": {
            "tags": []
          },
          "execution_count": 30
        }
      ]
    },
    {
      "metadata": {
        "id": "VBVCihr1gB8Y",
        "colab_type": "code",
        "colab": {
          "autoexec": {
            "startup": false,
            "wait_interval": 0
          },
          "base_uri": "https://localhost:8080/",
          "height": 34
        },
        "outputId": "ab81162a-32d4-42a3-eafa-b6cb4bf3f99a",
        "executionInfo": {
          "status": "ok",
          "timestamp": 1528057383486,
          "user_tz": 420,
          "elapsed": 345,
          "user": {
            "displayName": "Hasitha Chikkala",
            "photoUrl": "https://lh3.googleusercontent.com/a/default-user=s128",
            "userId": "105699343881197014514"
          }
        }
      },
      "cell_type": "code",
      "source": [
        "print(state.get_value())"
      ],
      "execution_count": 31,
      "outputs": [
        {
          "output_type": "stream",
          "text": [
            "2\n"
          ],
          "name": "stdout"
        }
      ]
    },
    {
      "metadata": {
        "id": "FveYhcAzoOTA",
        "colab_type": "text"
      },
      "cell_type": "markdown",
      "source": [
        "For random variables - Theano will allocate a NumPy RandomStream object (a random number generator) for each such variable, and draw from it as necessary"
      ]
    },
    {
      "metadata": {
        "id": "vPZDq_AigHq4",
        "colab_type": "code",
        "colab": {
          "autoexec": {
            "startup": false,
            "wait_interval": 0
          }
        }
      },
      "cell_type": "code",
      "source": [
        "from theano.tensor.shared_randomstreams import RandomStreams\n",
        "srng = RandomStreams(seed=234)\n",
        "rv_u = srng.uniform((2,2))   #a random uniform distribution of 2 * 2 dimensions (these only work on the CPU)\n",
        "rv_n = srng.normal((2,2))    #a random normal distribution of 2 * 2 dimensions (these only work on the CPU)\n",
        "f = theano.function([], rv_u)\n",
        "g = theano.function([], rv_n, no_default_updates=True)    #Not updating rv_n.rng\n",
        "nearly_zeros = theano.function([], rv_u + rv_u - 2 * rv_u)\n",
        "f_val0 = f()\n",
        "f_val1 = f()\n",
        "g_val0 = g()\n",
        "g_val1 = g()\n"
      ],
      "execution_count": 0,
      "outputs": []
    },
    {
      "metadata": {
        "id": "QaOGKWY0oSjJ",
        "colab_type": "code",
        "colab": {
          "autoexec": {
            "startup": false,
            "wait_interval": 0
          },
          "base_uri": "https://localhost:8080/",
          "height": 51
        },
        "outputId": "a58e4ee2-161f-44db-cb40-9051ae238534",
        "executionInfo": {
          "status": "ok",
          "timestamp": 1528057389692,
          "user_tz": 420,
          "elapsed": 611,
          "user": {
            "displayName": "Hasitha Chikkala",
            "photoUrl": "https://lh3.googleusercontent.com/a/default-user=s128",
            "userId": "105699343881197014514"
          }
        }
      },
      "cell_type": "code",
      "source": [
        "f_val0\n",
        "\n"
      ],
      "execution_count": 33,
      "outputs": [
        {
          "output_type": "execute_result",
          "data": {
            "text/plain": [
              "array([[0.12672381, 0.97091597],\n",
              "       [0.13989098, 0.88754825]])"
            ]
          },
          "metadata": {
            "tags": []
          },
          "execution_count": 33
        }
      ]
    },
    {
      "metadata": {
        "id": "_o1YLf6Arszk",
        "colab_type": "code",
        "colab": {
          "autoexec": {
            "startup": false,
            "wait_interval": 0
          },
          "base_uri": "https://localhost:8080/",
          "height": 51
        },
        "outputId": "e3eb47af-f994-4c4b-b08b-703190b815cc",
        "executionInfo": {
          "status": "ok",
          "timestamp": 1528057394244,
          "user_tz": 420,
          "elapsed": 4314,
          "user": {
            "displayName": "Hasitha Chikkala",
            "photoUrl": "https://lh3.googleusercontent.com/a/default-user=s128",
            "userId": "105699343881197014514"
          }
        }
      },
      "cell_type": "code",
      "source": [
        "f_val1 #we are getting different number each time the function is called because the internal state of the random number generator is automatically updated"
      ],
      "execution_count": 34,
      "outputs": [
        {
          "output_type": "execute_result",
          "data": {
            "text/plain": [
              "array([[0.31971415, 0.47584377],\n",
              "       [0.24129163, 0.42046081]])"
            ]
          },
          "metadata": {
            "tags": []
          },
          "execution_count": 34
        }
      ]
    },
    {
      "metadata": {
        "id": "NZShtKRasEKk",
        "colab_type": "code",
        "colab": {
          "autoexec": {
            "startup": false,
            "wait_interval": 0
          },
          "base_uri": "https://localhost:8080/",
          "height": 51
        },
        "outputId": "7c7b8253-fd7e-4cf7-e4e3-6e2cbdbc0ca6",
        "executionInfo": {
          "status": "ok",
          "timestamp": 1528057394775,
          "user_tz": 420,
          "elapsed": 378,
          "user": {
            "displayName": "Hasitha Chikkala",
            "photoUrl": "https://lh3.googleusercontent.com/a/default-user=s128",
            "userId": "105699343881197014514"
          }
        }
      },
      "cell_type": "code",
      "source": [
        "g_val0 "
      ],
      "execution_count": 35,
      "outputs": [
        {
          "output_type": "execute_result",
          "data": {
            "text/plain": [
              "array([[ 0.37328447, -0.65746672],\n",
              "       [-0.36302373, -0.97484625]])"
            ]
          },
          "metadata": {
            "tags": []
          },
          "execution_count": 35
        }
      ]
    },
    {
      "metadata": {
        "id": "D0p4B90SsGxQ",
        "colab_type": "code",
        "colab": {
          "autoexec": {
            "startup": false,
            "wait_interval": 0
          },
          "base_uri": "https://localhost:8080/",
          "height": 51
        },
        "outputId": "276fdf5b-ad03-4a60-92c8-86b2e168536e",
        "executionInfo": {
          "status": "ok",
          "timestamp": 1528057395248,
          "user_tz": 420,
          "elapsed": 333,
          "user": {
            "displayName": "Hasitha Chikkala",
            "photoUrl": "https://lh3.googleusercontent.com/a/default-user=s128",
            "userId": "105699343881197014514"
          }
        }
      },
      "cell_type": "code",
      "source": [
        "g_val1  #as can be observed, calling g() multiple times wil not give different values as no_default_updates has been set to True"
      ],
      "execution_count": 36,
      "outputs": [
        {
          "output_type": "execute_result",
          "data": {
            "text/plain": [
              "array([[ 0.37328447, -0.65746672],\n",
              "       [-0.36302373, -0.97484625]])"
            ]
          },
          "metadata": {
            "tags": []
          },
          "execution_count": 36
        }
      ]
    },
    {
      "metadata": {
        "id": "FgUbyIqKwaxa",
        "colab_type": "text"
      },
      "cell_type": "markdown",
      "source": [
        "Seed in a random number generator is a given number from which the random number generation starts. You can seed **just one random variable**  or **all the random stram variables** by seeding or assigning to the .rng attribute, using .rng.set_value(). "
      ]
    },
    {
      "metadata": {
        "id": "sO9POQzIsN2v",
        "colab_type": "code",
        "colab": {
          "autoexec": {
            "startup": false,
            "wait_interval": 0
          }
        }
      },
      "cell_type": "code",
      "source": [
        "rng_val = rv_u.rng.get_value(borrow=True)   # Get the specific rng for rv_u\n",
        "rng_val.seed(89234)                         # seeds the generator\n",
        "rv_u.rng.set_value(rng_val, borrow=True)\n",
        "\n",
        "srng.seed(902340)  # seeds rv_u and rv_n with different seeds each\n"
      ],
      "execution_count": 0,
      "outputs": []
    },
    {
      "metadata": {
        "id": "Ng41eWt_TTox",
        "colab_type": "text"
      },
      "cell_type": "markdown",
      "source": [
        "An example of how “random states” can be transferred from one theano function to another is shown below."
      ]
    },
    {
      "metadata": {
        "id": "P9HWbFrmtEre",
        "colab_type": "code",
        "colab": {
          "autoexec": {
            "startup": false,
            "wait_interval": 0
          }
        }
      },
      "cell_type": "code",
      "source": [
        "from __future__ import print_function\n",
        "from theano.sandbox.rng_mrg import MRG_RandomStreams\n",
        "from theano.tensor.shared_randomstreams import RandomStreams"
      ],
      "execution_count": 0,
      "outputs": []
    },
    {
      "metadata": {
        "id": "yuhVbF82TJye",
        "colab_type": "code",
        "colab": {
          "autoexec": {
            "startup": false,
            "wait_interval": 0
          }
        }
      },
      "cell_type": "code",
      "source": [
        "class Graph():\n",
        "...     def __init__(self, seed=123):\n",
        "...         self.rng = RandomStreams(seed)\n",
        "...         self.y = self.rng.uniform(size=(1,))\n",
        "g1 = Graph(seed=123)\n",
        "f1 = theano.function([], g1.y)\n"
      ],
      "execution_count": 0,
      "outputs": []
    },
    {
      "metadata": {
        "id": "KRiUF6HzTX8C",
        "colab_type": "code",
        "colab": {
          "autoexec": {
            "startup": false,
            "wait_interval": 0
          },
          "base_uri": "https://localhost:8080/",
          "height": 51
        },
        "outputId": "75ad0192-28ae-4195-8cc2-43270ec714b0",
        "executionInfo": {
          "status": "ok",
          "timestamp": 1528057400340,
          "user_tz": 420,
          "elapsed": 320,
          "user": {
            "displayName": "Hasitha Chikkala",
            "photoUrl": "https://lh3.googleusercontent.com/a/default-user=s128",
            "userId": "105699343881197014514"
          }
        }
      },
      "cell_type": "code",
      "source": [
        "g2 = Graph(seed=987)\n",
        "f2 = theano.function([], g2.y)\n",
        "print(f1())\n",
        "print(f2())"
      ],
      "execution_count": 40,
      "outputs": [
        {
          "output_type": "stream",
          "text": [
            "[0.72803009]\n",
            "[0.55056769]\n"
          ],
          "name": "stdout"
        }
      ]
    },
    {
      "metadata": {
        "id": "PCn7tC4TTtjK",
        "colab_type": "code",
        "colab": {
          "autoexec": {
            "startup": false,
            "wait_interval": 0
          },
          "base_uri": "https://localhost:8080/",
          "height": 51
        },
        "outputId": "cdf2f764-27e8-4e0f-9572-6b9fbed32cfe",
        "executionInfo": {
          "status": "ok",
          "timestamp": 1528057400770,
          "user_tz": 420,
          "elapsed": 313,
          "user": {
            "displayName": "Hasitha Chikkala",
            "photoUrl": "https://lh3.googleusercontent.com/a/default-user=s128",
            "userId": "105699343881197014514"
          }
        }
      },
      "cell_type": "code",
      "source": [
        "def copy_random_state(g1, g2):\n",
        "...     if isinstance(g1.rng, MRG_RandomStreams):\n",
        "...         g2.rng.rstate = g1.rng.rstate\n",
        "...     for (su1, su2) in zip(g1.rng.state_updates, g2.rng.state_updates):\n",
        "...         su2[0].set_value(su1[0].get_value())\n",
        "copy_random_state(g1, g2)\n",
        "print(f1())\n",
        "print(f2())"
      ],
      "execution_count": 41,
      "outputs": [
        {
          "output_type": "stream",
          "text": [
            "[0.59044123]\n",
            "[0.59044123]\n"
          ],
          "name": "stdout"
        }
      ]
    },
    {
      "metadata": {
        "id": "Ysq-TvgaVA-y",
        "colab_type": "text"
      },
      "cell_type": "markdown",
      "source": [
        "\n",
        "MRG_RandomStreams - runs on cpu and gpu while RandomStreams works only on cpu\n",
        "\n",
        "Practical Logistic Regression Example\n"
      ]
    },
    {
      "metadata": {
        "id": "4vueL_qRUUKW",
        "colab_type": "code",
        "colab": {
          "autoexec": {
            "startup": false,
            "wait_interval": 0
          },
          "base_uri": "https://localhost:8080/",
          "height": 6783
        },
        "outputId": "b668543c-640b-4f8b-b3b0-66bcb6bc18c6",
        "executionInfo": {
          "status": "ok",
          "timestamp": 1528090849744,
          "user_tz": 420,
          "elapsed": 18928,
          "user": {
            "displayName": "Hasitha Chikkala",
            "photoUrl": "https://lh3.googleusercontent.com/a/default-user=s128",
            "userId": "105699343881197014514"
          }
        }
      },
      "cell_type": "code",
      "source": [
        "import theano.tensor as T\n",
        "rng = numpy.random\n",
        "\n",
        "N = 400                                   # training sample size\n",
        "feats = 784                               # number of input variables\n",
        "\n",
        "# generate a dataset: D = (input_values, target_class)\n",
        "D = (rng.randn(N, feats), rng.randint(size=N, low=0, high=2))\n",
        "training_steps = 10000\n",
        "\n",
        "# Declare Theano symbolic variables\n",
        "x = T.dmatrix(\"x\")\n",
        "y = T.dvector(\"y\")\n",
        "\n",
        "# initialize the weight vector w randomly\n",
        "# this and the following bias variable b\n",
        "# are shared so they keep their values\n",
        "# between training iterations (updates)\n",
        "w = theano.shared(rng.randn(feats), name=\"w\")\n",
        "\n",
        "# initialize the bias term\n",
        "b = theano.shared(0., name=\"b\")\n",
        "\n",
        "print(\"Initial model:\")\n",
        "print(w.get_value())\n",
        "print(b.get_value())\n",
        "\n",
        "# Construct Theano expression graph\n",
        "p_1 = 1 / (1 + T.exp(-T.dot(x, w) - b))   # Probability that target = 1\n",
        "prediction = p_1 > 0.5                    # The prediction thresholded\n",
        "xent = -y * T.log(p_1) - (1-y) * T.log(1-p_1) # Cross-entropy loss function\n",
        "cost = xent.mean() + 0.01 * (w ** 2).sum()# The cost to minimize\n",
        "gw, gb = T.grad(cost, [w, b])             # Compute the gradient of the cost\n",
        "                                          # w.r.t weight vector w and\n",
        "                                          # bias term b\n",
        "                                         \n",
        "\n",
        "# Compile\n",
        "train = theano.function(\n",
        "          inputs=[x,y],\n",
        "          outputs=[prediction, xent],\n",
        "          updates=((w, w - 0.1 * gw), (b, b - 0.1 * gb)))\n",
        "predict = theano.function(inputs=[x], outputs=prediction)\n",
        "\n",
        "# Train\n",
        "for i in range(training_steps):\n",
        "    pred, err = train(D[0], D[1])\n",
        "\n",
        "print(\"Final model:\")\n",
        "print(w.get_value())\n",
        "print(b.get_value())\n",
        "target = D[1]\n",
        "predicted = predict(D[0])\n",
        "predicted = predicted.astype(int)\n",
        "count = 0\n",
        "for i in range(len(target)):\n",
        "  if (target[i] == predicted[i] ):\n",
        "    count = count+1\n",
        "\n",
        "print(\"Accuracy\")\n",
        "print(count/len(target))\n"
      ],
      "execution_count": 6,
      "outputs": [
        {
          "output_type": "stream",
          "text": [
            "Initial model:\n",
            "[ 5.47475471e-01 -8.80551291e-01  8.73338800e-01  1.33629194e+00\n",
            " -1.61163453e+00  8.63800965e-01 -1.77181291e+00 -2.41469657e-01\n",
            " -2.52920578e+00  1.61897169e+00  9.35475352e-01 -4.86689605e-01\n",
            " -5.98861399e-01 -1.72415864e-01 -1.49231053e-01 -2.00365537e-02\n",
            "  2.17817433e-01 -1.77510576e-01 -7.75872286e-01  3.51690704e+00\n",
            " -5.52388567e-01  1.21468904e+00 -2.17096988e+00  7.29555778e-01\n",
            "  7.69032130e-01 -1.78975504e+00 -9.02278944e-01 -1.65761681e+00\n",
            "  7.02574366e-01 -2.25919399e-01 -7.35823140e-01  9.08827011e-01\n",
            " -9.52143947e-01 -1.15169871e+00  7.18310334e-02 -3.14807904e-02\n",
            "  8.33142203e-01 -3.16685769e-01  4.65460633e-01  5.17492074e-01\n",
            "  9.74028430e-02 -7.13493768e-01  7.26484569e-01  8.90105571e-01\n",
            " -9.36098103e-01 -4.75430091e-01  9.85458112e-01 -9.17367555e-01\n",
            "  6.78039469e-01 -6.10388767e-01 -2.82742542e+00 -1.04841807e+00\n",
            "  1.17224033e+00 -2.22612245e-01 -4.69459578e-01 -3.78755629e-01\n",
            " -1.44371711e+00 -7.96233039e-01  1.37678104e+00  1.62461028e+00\n",
            " -1.71112109e+00 -7.95423272e-01 -2.66319099e+00 -8.71436441e-01\n",
            "  4.94251052e-01  4.17487920e-01 -3.93237748e-01 -3.65365686e-01\n",
            "  4.75266113e-01 -8.73904919e-01 -1.00480411e+00 -1.47146255e+00\n",
            "  2.47652494e-01 -9.37351694e-01 -2.72479914e-01 -1.05234171e+00\n",
            " -3.21882507e-02  1.08897871e+00 -5.04098546e-01 -1.21239512e+00\n",
            "  2.51470399e-01 -5.12017347e-01  7.02496815e-01  1.21969722e+00\n",
            " -3.06288921e-01  6.17537006e-01  7.25751245e-01  2.46639502e-01\n",
            "  2.04240523e-01 -1.11331536e+00  5.03132218e-01 -1.95825232e+00\n",
            "  1.72072300e+00  5.22098620e-01 -5.67735333e-03  9.09132601e-02\n",
            "  7.09988889e-01 -6.60341064e-01 -5.15626461e-01  9.15317851e-01\n",
            "  1.24071465e+00  5.75197036e-01  6.36908774e-01  2.40382036e-01\n",
            " -1.31613075e-01 -3.12481228e-01 -1.36442708e-01  3.68670708e-01\n",
            " -6.73348519e-01  5.49897852e-01 -1.95404209e+00 -6.30089894e-01\n",
            "  1.88680279e+00  2.59340459e-01 -9.85839589e-01  1.31026028e-01\n",
            " -6.87778317e-01 -1.27940474e+00 -4.57173229e-01  1.17421318e+00\n",
            "  3.75439080e-01 -5.61955186e-01  1.57965993e+00  6.10290296e-01\n",
            "  1.15884278e+00  1.03821662e+00 -2.46986425e+00  1.55889947e-01\n",
            "  1.30312930e+00 -3.77280811e-01 -3.08651636e-01  1.30228097e+00\n",
            "  1.59435907e+00  5.80268029e-01  4.17141722e-01  4.87639947e-01\n",
            " -1.50088547e+00 -4.32814022e-02  1.08731682e+00 -8.68027857e-01\n",
            "  1.18681656e+00  2.35815185e+00  6.28412160e-01 -1.48480340e-01\n",
            " -1.23062620e+00  1.18865804e+00 -1.20090833e+00  1.41537264e-04\n",
            "  4.28220370e-01  9.87980485e-01  9.34249533e-01  9.43034051e-01\n",
            " -8.49686630e-01  1.77801388e+00  1.11602126e+00 -6.38876295e-01\n",
            "  2.14073386e-01  2.76071300e-01  6.41327518e-01 -9.51654747e-01\n",
            " -3.18333386e-01 -8.05324387e-01  1.13235041e+00  2.97392285e-02\n",
            " -1.04064298e+00  1.00219535e+00  2.36444886e+00 -4.59484625e-01\n",
            " -2.55399514e-01  1.21190098e+00  5.99947061e-01 -6.00373721e-01\n",
            " -1.76311189e+00  9.11621270e-01  7.46414491e-01  3.00641274e-01\n",
            "  3.90136075e-01 -2.70622647e-01  1.24067011e+00 -9.57974192e-01\n",
            " -1.24374840e+00  4.45959700e-01  3.00773847e-01  2.19743398e-01\n",
            "  6.81186051e-01  1.49850631e+00 -1.61602957e-01  1.87075749e+00\n",
            " -1.45131984e-01 -7.51994433e-01 -1.31074405e+00 -4.86685419e-01\n",
            " -1.00314810e+00 -3.10505094e-01  8.59466526e-01  1.47495167e-01\n",
            " -2.28826633e+00  2.12942926e+00 -2.33027391e+00  1.45618565e+00\n",
            " -1.47826570e+00 -5.82948785e-01 -4.30153304e-01  1.11992886e+00\n",
            " -8.94942582e-01  5.84302264e-01  9.14897123e-01 -6.26422436e-01\n",
            "  2.45967137e+00  2.57481388e-02  1.24730504e+00 -1.06035333e+00\n",
            "  2.80573344e-02 -2.72542953e-01  1.74501303e+00 -8.84135998e-01\n",
            " -4.73003643e-01 -5.67681975e-01 -1.99339538e-01  2.59378535e-01\n",
            "  3.69315982e-02 -4.68331543e-03 -9.87666253e-01  7.58031511e-01\n",
            " -6.81797865e-01  5.56707748e-02 -1.49073559e+00  2.02828819e+00\n",
            " -1.26761992e+00 -7.36983535e-02 -4.37445748e-01 -1.08845971e+00\n",
            "  1.88085904e-01  2.89221089e-01  3.07863481e-01 -2.19522661e+00\n",
            " -1.81116137e-01 -5.33796530e-01 -4.25439874e-01 -3.11270011e-01\n",
            " -7.50536278e-01  3.69682955e-01 -3.41637980e-01 -1.12333148e-01\n",
            " -1.39826013e+00 -1.90637819e+00 -3.82272476e-02 -2.51098398e+00\n",
            "  9.77927959e-01  8.68521272e-01 -6.43853612e-01  5.41464695e-01\n",
            "  1.75464429e+00 -8.40283562e-01  1.61791514e+00 -2.89054796e-01\n",
            "  6.07080842e-01  6.87584815e-01 -6.41138038e-01  3.22792073e-01\n",
            "  2.20844045e-02  4.12481387e-01 -1.68666906e+00  1.89942315e-02\n",
            "  1.48881367e-01  2.51906379e-01  1.60596210e+00 -5.66905518e-01\n",
            "  6.15888669e-01 -2.99594417e-01  1.85764021e-01  7.02915697e-01\n",
            "  2.98863442e-01 -1.14325894e+00  1.73342851e+00 -1.07476710e+00\n",
            " -1.95051811e-01 -1.31523339e+00 -1.86251763e+00 -4.41964484e-01\n",
            " -5.28477123e-01 -1.03828598e+00 -1.21248056e+00  6.46746088e-01\n",
            " -6.04309338e-01  7.95493801e-01 -5.09444412e-01 -3.22437154e-01\n",
            " -3.10654806e-01  1.10805456e-01  1.89993058e+00  1.70377950e+00\n",
            "  1.42121154e-01  2.48928377e-01 -3.73926385e-01 -4.97724223e-01\n",
            "  2.96425817e-01 -3.25589081e-01  9.14348788e-02 -1.20285396e+00\n",
            "  3.34725580e-01  4.06340984e-01 -5.29480086e-01  9.45970227e-01\n",
            " -1.41376900e+00 -5.80312171e-01 -5.54580177e-01  1.56524623e+00\n",
            "  8.86640688e-01 -5.31583796e-01  2.67147608e-01 -2.64541193e-03\n",
            "  8.63977262e-01 -5.20861629e-02  1.22327063e+00 -1.09672319e+00\n",
            " -4.17965979e-01  8.71022948e-01 -3.43433204e-01 -4.94275046e-01\n",
            " -8.22437633e-01 -8.43956984e-01 -1.88279054e+00  1.73509509e+00\n",
            " -1.37814478e-01  5.43000289e-02 -7.81928420e-01  6.33396617e-01\n",
            "  5.63809886e-02  1.53525497e+00  2.00648419e-01  5.90206367e-01\n",
            " -5.99968714e-01  7.27007646e-01 -1.29295790e-01 -6.24873212e-02\n",
            "  1.85258696e+00  3.94625160e-01 -5.84476938e-01 -1.02871266e+00\n",
            "  4.11022563e-01 -1.08977436e-01  1.25434951e+00 -4.26466542e-01\n",
            " -1.87494869e-01  1.16796589e+00 -7.00076269e-01  4.53172584e-01\n",
            "  2.04417619e+00 -3.69541089e-01  3.48049862e-02  6.42782546e-01\n",
            "  6.58842543e-01  2.88766761e-02 -2.04070920e-01  1.45519673e+00\n",
            "  7.72557098e-01 -1.47941325e-02  1.51320644e-01 -1.61698744e-01\n",
            " -2.79648479e-01  1.67450254e+00 -2.93126814e+00  1.71285359e+00\n",
            "  6.29501912e-01 -1.17816713e+00  9.24664354e-01  1.07018639e+00\n",
            "  6.27586840e-01  9.68771720e-01 -1.39126232e-01  9.08550091e-01\n",
            "  4.46160533e-01 -7.78919711e-01 -4.01786873e-02 -1.72128002e-01\n",
            " -6.55256333e-02  5.62840378e-01 -1.24796165e+00 -1.65416487e+00\n",
            "  4.51976929e-02  2.75033644e-01 -1.67368561e+00  8.65398295e-01\n",
            " -2.30433241e+00 -9.93098248e-02  7.53353646e-02 -1.87139917e+00\n",
            " -1.88142769e+00 -8.32768503e-01  5.96528101e-01  2.07515699e+00\n",
            "  1.13033894e+00 -1.65202357e+00  1.43043839e+00 -9.98185369e-02\n",
            " -8.85007212e-01  1.32966697e+00 -8.79458242e-01  8.06558194e-01\n",
            "  8.36803114e-02 -4.13162246e-01 -4.37311790e-01  2.49007046e-01\n",
            " -6.68429960e-01 -3.00367041e-01  1.07065602e+00  1.62773542e+00\n",
            "  1.59062824e-01  5.54918465e-01  1.16639486e+00 -3.02653366e-01\n",
            " -4.27727422e-02 -6.27563789e-01 -7.73642126e-01  2.49775011e+00\n",
            "  1.58805792e+00 -8.37096455e-01 -3.72851697e-01  3.50055872e-02\n",
            " -7.45775302e-01 -8.81619900e-01 -9.26121182e-01  3.18967862e+00\n",
            " -8.39873890e-01  7.71501035e-01  2.69231729e-01 -4.61293844e-01\n",
            " -7.54463722e-02 -3.13722330e-01 -8.76396323e-01 -7.15486827e-01\n",
            "  2.65915574e+00  1.48727700e+00  5.68561695e-02  1.50528514e-01\n",
            " -1.19872020e+00  2.30590071e-02  1.16413223e+00  6.47877794e-01\n",
            "  9.59499689e-02  3.26687005e-01  4.19668583e-01 -2.58531726e-01\n",
            " -3.14563226e-01 -9.50971549e-01 -6.46748561e-01  1.02214170e+00\n",
            "  1.60592007e-01 -9.53653857e-01  3.60379905e-01  2.52005744e-01\n",
            "  2.99058337e-01 -8.70316572e-01  3.55866470e-01  1.37656811e+00\n",
            " -4.81102636e-01  1.73951542e+00 -5.91204452e-01  1.12003294e+00\n",
            "  1.74868612e-01 -2.33863284e+00  2.12543853e-01 -7.44313013e-01\n",
            "  1.20602418e-01 -2.45837729e+00 -1.09778057e+00  9.15292670e-02\n",
            "  2.96625394e-01  7.41505641e-01  7.75958444e-01 -1.65882366e-01\n",
            "  5.28233608e-02 -1.66039221e+00  3.63180678e-01  8.26583341e-01\n",
            " -3.68072007e-01  5.80741687e-02 -4.31870687e-01  1.54623689e+00\n",
            "  9.39134141e-02  8.31355540e-02 -9.70017298e-01 -5.41182095e-01\n",
            " -8.77057009e-01 -6.09223500e-01 -2.14154821e-01 -2.18777702e+00\n",
            "  2.27788966e+00  2.49695931e-01  4.67245059e-01  9.79678414e-02\n",
            "  1.40760603e+00  1.32677029e+00 -8.88789646e-01  7.87995679e-01\n",
            "  1.39026616e-01  2.26511111e-02 -1.98534907e+00  2.72954116e-01\n",
            "  4.55893261e-01 -1.57032970e+00 -1.84726762e+00 -1.97186738e+00\n",
            " -4.24065564e-01 -1.48592156e-01 -1.30738003e+00  2.23490833e-01\n",
            " -9.74277229e-01  1.30214863e+00  3.41794811e-01 -1.16331921e+00\n",
            " -5.46852739e-01  1.09798005e-01  4.65606661e-01  1.35589778e+00\n",
            "  8.35899772e-01 -8.36623178e-01  2.03721926e+00 -9.17171053e-01\n",
            " -1.82949946e-02  4.21621837e-01  7.47004509e-01  3.61618977e-01\n",
            " -7.69286821e-01 -6.17025983e-01 -6.95259762e-01 -2.15188854e+00\n",
            " -1.43246415e+00  7.17974507e-01  3.20154373e-01 -2.71087227e-02\n",
            " -4.24367159e-01  5.63056121e-01 -9.60817993e-01  8.66299165e-01\n",
            " -6.75455020e-01 -1.00074119e+00  7.80588000e-01  4.76159954e-01\n",
            "  2.58918335e-01  2.06906203e-01  1.48719282e+00 -3.53234205e-01\n",
            "  6.71134630e-01  8.09580362e-01  5.19059567e-01 -6.64183547e-01\n",
            "  1.78479184e+00 -1.16912812e+00 -8.09714830e-02  2.86262194e-01\n",
            " -1.60271468e-01  9.38083630e-03 -1.41689631e+00  4.43196724e-01\n",
            "  4.54753659e-01 -1.05398598e+00  1.73728952e-01  5.83432122e-01\n",
            " -1.00308380e+00  7.43283100e-01  7.16478595e-01 -2.51260058e-01\n",
            "  1.60836929e-01 -2.15307885e-01 -7.47579520e-01 -9.52861001e-01\n",
            "  5.84091447e-01 -8.05387684e-01 -7.29695125e-01 -1.62158859e+00\n",
            " -6.60741913e-01  6.46952544e-01 -1.87597203e-01 -1.09285894e+00\n",
            "  6.29531967e-01 -3.41424694e-03  7.67362999e-02  2.55499088e-01\n",
            " -8.79257323e-01  4.07199850e-01 -1.83154263e+00  7.24348099e-01\n",
            "  7.91987121e-01 -2.88198862e+00  1.23864937e+00 -8.55385973e-01\n",
            " -9.41993497e-01 -6.19874382e-01 -1.22195264e+00 -2.77659207e-01\n",
            "  9.18755979e-01  1.12374040e+00 -9.79378182e-02  5.91267262e-01\n",
            "  1.69182774e+00  4.74448473e-01 -1.10918617e+00  7.81504374e-01\n",
            "  6.38722347e-03  4.18407315e-01 -6.86868573e-01  1.05113343e+00\n",
            " -4.33480314e-01 -6.54974658e-01  1.62666818e+00 -4.18037253e-01\n",
            "  1.29767853e-01 -1.00892847e+00  6.72286365e-01  1.08762192e-01\n",
            " -5.01931119e-01  2.58542848e-01  1.21594277e+00 -1.24540185e+00\n",
            " -8.65581122e-01  1.65827976e-01  3.03468638e-01  3.94296164e-01\n",
            "  1.12378118e+00  8.81784297e-02  5.30424631e-01 -6.12929710e-01\n",
            "  1.15747097e-01  8.52944228e-01  1.40270397e+00  1.31210282e+00\n",
            "  1.41942007e+00 -1.02206370e-01 -8.36557122e-01 -2.38325783e-01\n",
            " -3.72392944e-01  5.75486123e-01  7.02353256e-01  2.51532111e-01\n",
            "  1.87269135e+00  2.85805760e-01  6.25776750e-01  1.62237254e+00\n",
            " -4.39462034e-01  4.47205497e-01 -6.91393177e-01  1.44337861e-01\n",
            " -1.51289905e+00  4.53589525e-01  1.18280270e+00 -1.25681315e+00\n",
            " -3.69919185e-01 -6.33965803e-01  8.70551087e-01 -1.48958200e+00\n",
            "  1.21537418e+00 -5.95576642e-01  4.43230833e-01  1.36456008e+00\n",
            "  1.28698743e-01  1.15794842e+00 -1.08345286e+00  7.90313555e-01\n",
            "  5.10493252e-01 -1.55573047e+00  6.42684804e-01  1.34245332e+00\n",
            " -1.72741182e+00 -4.61776934e-01 -1.09966606e+00 -7.05866959e-01\n",
            " -7.14560318e-02 -3.45014230e-01  1.98889611e+00 -1.01287020e+00\n",
            "  4.40045092e-02  6.95709657e-01  1.60409337e-01 -1.19419710e+00\n",
            "  5.97870468e-01  2.07667633e-01  7.47845949e-01  4.94929990e-01\n",
            "  7.06535298e-01  1.86609578e-01  6.81672243e-01 -1.37378434e+00\n",
            "  1.83560389e-01 -6.87138114e-01 -1.31877540e-01  8.08207748e-01\n",
            " -7.26620416e-01  7.82949872e-01 -1.43633829e+00 -6.56535599e-01\n",
            "  9.71069597e-01 -3.13248508e-01  1.53430577e+00  5.39352864e-01\n",
            "  8.88712330e-01 -3.39171123e-01  2.32999368e-02 -1.25347992e-01\n",
            "  6.78702232e-01  6.04848497e-02 -7.50449337e-01 -6.06543392e-01\n",
            "  9.87244477e-01  1.07407101e+00  1.84193525e+00 -1.03840802e+00\n",
            "  1.45481174e+00  7.94702005e-01  5.02494706e-01 -5.53641561e-01\n",
            " -1.38763775e-01 -5.45036331e-01  1.56486926e+00  1.27870908e+00\n",
            " -2.55968887e-01 -1.22058577e+00 -5.82481761e-01 -8.92314131e-01\n",
            " -3.62325737e-01  2.32709810e-01 -2.42401980e-01  1.80221301e+00\n",
            "  3.59198025e-01 -1.29030534e-02 -3.67793291e-01  4.90409027e-01\n",
            " -4.58181394e-01  9.58315312e-01 -2.21217942e-01 -9.17084518e-01\n",
            " -1.92964911e+00 -4.66110138e-01 -2.51485534e-01 -7.90831726e-01\n",
            " -1.19987584e+00  6.49095970e-01  2.43662346e-01 -4.16321457e-01\n",
            "  7.26221770e-02 -1.48114217e-01 -6.74868453e-01 -2.23398861e-02\n",
            " -3.48523349e-01 -7.72504582e-01 -3.06659920e-01 -1.00400439e+00\n",
            " -1.20431695e+00 -1.76802315e-01  4.05093119e-01  1.33939464e+00\n",
            "  2.57837675e-01  1.30538302e-01  6.15612420e-01 -8.55671411e-01\n",
            " -3.20499762e-01  3.02414060e-01  4.89115798e-01  4.40319619e-01\n",
            " -3.20380762e-01 -1.50757156e+00  8.18094519e-01  1.22085466e-01\n",
            " -1.58803867e-01  2.74181704e-01  8.78266533e-03 -3.07599483e-01\n",
            "  1.01805585e+00 -3.16473677e-01  9.66071278e-01  6.87657511e-01\n",
            " -1.90424654e-01  4.76040755e-01 -3.41391829e-01 -3.00897003e+00\n",
            "  1.70847075e-01 -3.31658331e-01  4.89660146e-01  2.77880488e-01\n",
            " -6.98158180e-01 -6.90033181e-02  9.49237389e-01 -1.44185559e-01]\n",
            "0.0\n",
            "Final model:\n",
            "[-2.71400149e-02 -7.59217673e-02  1.41327170e-01  1.45506070e-01\n",
            "  1.59839802e-01  7.42663439e-02 -1.13260221e-01  1.05204738e-02\n",
            " -1.63100990e-01 -3.77386567e-02 -1.94660450e-02 -1.66554067e-01\n",
            " -1.34422857e-01  7.54892340e-02  1.73950284e-01 -7.42904739e-02\n",
            " -5.19427670e-02  3.90530209e-02  1.08504289e-01  7.51122581e-02\n",
            "  9.11043186e-02  6.53778573e-02 -4.59549912e-02 -1.21859758e-01\n",
            "  8.87685581e-02 -2.21725214e-02  6.82480722e-02  3.68975761e-02\n",
            " -4.05461536e-02  5.27836281e-02  1.16233883e-01  1.60130853e-01\n",
            " -3.31235270e-02 -1.79241735e-02  1.12543183e-01  2.91498847e-02\n",
            "  2.02201121e-01 -1.92075926e-02  1.46035862e-01 -1.65254538e-01\n",
            "  1.62929305e-02 -6.93126256e-02  2.50198540e-02  1.28503312e-02\n",
            " -2.06032430e-01  2.78085174e-02 -1.70454963e-01 -5.05507838e-02\n",
            " -8.81102720e-03  8.58191197e-02 -8.90986471e-02  1.55066576e-01\n",
            " -1.33748506e-03  2.69230353e-02  3.16501109e-02  1.54254655e-01\n",
            "  8.63421231e-02  1.06662007e-01 -1.59960173e-02  5.79642681e-02\n",
            " -8.09127293e-02 -2.55820695e-01 -2.06596094e-02  8.14493965e-03\n",
            "  1.39654160e-01  4.15111024e-02 -1.02554854e-01 -1.37777171e-01\n",
            "  3.61587156e-02 -5.88751969e-02 -3.27848921e-02 -9.55709179e-02\n",
            " -1.95650666e-01 -1.25203254e-02  1.01504316e-01  6.68898313e-02\n",
            " -3.25280644e-02  9.67428537e-02  1.25686659e-01  2.98705753e-02\n",
            " -2.93916041e-02 -1.72821040e-02 -1.45734579e-01  1.46980749e-01\n",
            " -1.07699562e-01 -1.79119125e-01  1.29268659e-02  5.23401563e-03\n",
            "  1.52214477e-01  6.35190461e-02  3.51675048e-02 -8.86158900e-02\n",
            " -1.23327453e-02 -1.85506217e-02  7.30824754e-03  1.48272987e-01\n",
            " -4.48158449e-02  2.47766957e-03 -7.58856360e-02 -1.32053593e-01\n",
            "  1.84830483e-01 -1.80035773e-01  2.37245495e-02 -7.38860180e-02\n",
            " -1.09735109e-01 -2.07919891e-01  2.33851026e-02  5.14235118e-02\n",
            "  8.92353254e-02  3.03888018e-03 -1.00310602e-02  5.13245934e-02\n",
            " -1.45174251e-01 -7.77480191e-02  4.07938184e-02  6.47253760e-02\n",
            "  1.16385219e-02 -1.19694505e-01  7.24933115e-02  7.45303044e-02\n",
            "  5.90910302e-02 -1.35014241e-02  1.50596011e-02  1.03546817e-01\n",
            "  2.62281215e-02  3.27853801e-02 -2.20971507e-03  1.14566326e-01\n",
            "  5.38789048e-02  5.19554101e-02 -4.78208464e-02  5.05839118e-02\n",
            " -7.71190788e-02  9.98105712e-02 -2.21231003e-01  2.10936881e-02\n",
            " -1.34982221e-01  1.13089454e-01  4.69676454e-02 -4.13119814e-02\n",
            "  8.22339245e-02 -9.72894281e-02 -5.21611631e-02 -3.94792077e-02\n",
            "  2.20195704e-03 -1.41684139e-01  5.01920533e-02 -2.99550011e-02\n",
            " -1.56785347e-02  1.45843399e-01 -3.24579082e-02 -8.11969357e-02\n",
            "  1.96160731e-01 -2.61806707e-02  3.59074316e-02  1.31535169e-01\n",
            " -4.01494900e-02 -8.97837571e-02 -5.52444800e-02  4.55313118e-02\n",
            "  9.81472923e-02 -1.17953829e-01 -4.27310933e-02  8.32428742e-02\n",
            "  1.17279935e-01 -2.61692400e-02 -2.33053960e-03 -1.66162551e-01\n",
            " -7.30060604e-02  1.12768674e-01  2.29885429e-02  4.11990078e-02\n",
            " -5.22820536e-02 -8.63260966e-02 -1.19403106e-01  6.86665538e-02\n",
            "  9.56549034e-02 -1.04180404e-01  2.31208780e-02  6.13168003e-05\n",
            "  1.56407701e-03  2.72503295e-02  4.02542595e-03  6.06735530e-02\n",
            "  4.81580982e-02 -2.09357393e-01  5.05004663e-02 -9.41698366e-02\n",
            " -5.33710278e-02 -1.30484157e-01  3.18032746e-02  1.54882935e-01\n",
            " -5.15488613e-02  2.54973792e-02  6.92713398e-02  2.84885396e-02\n",
            " -8.80314770e-02  9.34763344e-03  3.92352762e-03 -7.65019551e-02\n",
            " -1.51972180e-01 -1.89683726e-01 -1.44267005e-01  7.79604391e-03\n",
            " -9.83526359e-02  3.88764768e-02  8.63456457e-02 -1.39961758e-01\n",
            "  3.12467451e-02 -8.50736008e-02  1.43824518e-01 -5.96617230e-03\n",
            "  8.81804371e-02 -3.08301412e-02 -3.55219210e-02  9.15519237e-02\n",
            "  9.87537783e-02 -2.52456526e-01  8.15741660e-02 -4.18054357e-02\n",
            "  1.50757331e-01  1.77690489e-01  1.49950688e-01  2.28702036e-01\n",
            " -4.26933527e-02  8.59750341e-02 -8.44306424e-02 -2.28026136e-02\n",
            " -8.41318380e-02 -1.54994420e-03  1.21278408e-01 -1.12948055e-01\n",
            "  2.44770055e-02  1.77179861e-02  1.77846830e-02 -2.04277713e-01\n",
            " -5.91041376e-02 -1.99078463e-01  8.79816039e-02  5.54681870e-02\n",
            " -4.64975469e-02 -1.14536808e-01  4.70785395e-02 -4.22561633e-02\n",
            "  1.58748404e-01  2.98932189e-02 -2.35307554e-02  8.69867134e-02\n",
            "  5.28121980e-02  2.62749525e-02 -9.33314554e-02 -1.96291017e-02\n",
            "  3.03585570e-02 -1.20285705e-01 -4.46015233e-02 -1.60696713e-01\n",
            "  4.93056929e-02 -3.41936392e-02  1.31711234e-01 -7.61636245e-02\n",
            " -1.48678451e-03  4.36440686e-02 -7.98492771e-02  8.16110345e-02\n",
            "  5.89556766e-02 -3.18427942e-02 -9.07885593e-02  4.19030719e-02\n",
            " -1.51354527e-01  1.76775806e-02  1.52752848e-01  2.00466722e-01\n",
            " -2.25324677e-01 -2.69092673e-02  1.42735213e-01  7.16746738e-02\n",
            "  1.43839080e-01  6.48043673e-02 -6.93927896e-02 -1.23083399e-01\n",
            " -5.09321693e-02 -1.02280161e-01 -1.41484684e-01  8.36446921e-03\n",
            " -1.28618652e-01 -4.27853852e-02 -9.44832340e-02  3.98188783e-02\n",
            "  1.44125495e-01 -8.69705810e-02  8.35038158e-02 -1.83603758e-02\n",
            " -8.58817899e-02  2.08028088e-02  4.48035570e-02  1.14056808e-01\n",
            " -1.12174732e-01 -5.94925843e-02  7.88028276e-02  1.06933845e-01\n",
            "  1.05216313e-02  2.21801202e-02  1.27978760e-02  2.72860516e-02\n",
            " -1.03867285e-01 -2.68822296e-02  4.58582814e-02  6.49847096e-03\n",
            "  2.72183147e-02 -2.02935611e-02 -2.31971154e-02  3.35948368e-02\n",
            " -1.59136681e-01 -1.64780644e-02  6.21789469e-02 -9.01671514e-02\n",
            "  1.19765142e-01 -1.01205822e-01  2.51144029e-02 -3.61613096e-01\n",
            " -6.48190272e-02 -9.46883166e-02 -8.70611490e-02  1.38623798e-01\n",
            "  7.13247655e-02 -1.26301228e-01 -9.16248815e-02  4.00427877e-02\n",
            " -1.41234552e-01 -2.81150502e-03 -8.80245487e-02  7.89993833e-02\n",
            "  4.20988078e-02  2.32403680e-02  4.86643254e-02  1.89207439e-01\n",
            " -1.45356959e-01 -1.26688365e-01 -4.33617260e-02 -3.71164702e-02\n",
            " -1.76731349e-01 -2.34776303e-02 -1.44954710e-04 -2.88313319e-02\n",
            " -1.20132216e-01 -8.25127399e-03 -1.44036790e-01  4.58405641e-02\n",
            " -7.89817745e-02  4.29577514e-02 -1.58256006e-02  4.23571690e-02\n",
            " -5.55404050e-02  7.35795704e-02  6.14717192e-02 -1.56238949e-01\n",
            "  2.90151838e-02 -5.56499314e-02  2.16745893e-02  1.48589014e-01\n",
            " -8.16963682e-02 -1.11085302e-01 -9.48693055e-02 -1.00180377e-01\n",
            " -4.71161143e-02 -4.44247191e-02 -7.63672299e-02 -2.00374574e-01\n",
            "  3.31922370e-02  2.02447995e-03 -5.26370573e-02  5.42472194e-02\n",
            "  3.81297318e-02 -2.96348108e-02  6.15420911e-02  9.05105349e-02\n",
            "  1.11107619e-02 -2.33527810e-01 -7.76819929e-02  1.55708462e-01\n",
            " -1.19822925e-02 -1.29572279e-01  1.35658539e-01 -3.96240685e-02\n",
            " -4.54886539e-02  2.87239655e-02  8.47184145e-02 -4.33141801e-02\n",
            "  1.76866681e-01 -9.92261649e-03  7.42416762e-02  1.00290176e-01\n",
            " -5.49395870e-02  8.07153359e-02 -7.49492619e-02 -9.56022324e-02\n",
            "  7.81768402e-02  1.81667289e-01  1.35599966e-01  5.81076884e-02\n",
            "  4.07097819e-02 -9.44495504e-02 -4.91998919e-02  4.31138383e-02\n",
            "  7.30788274e-02  3.30754482e-02  6.06272618e-02 -9.39558296e-02\n",
            " -3.17357815e-02  1.24658383e-01  2.59467408e-01  7.08507119e-02\n",
            " -5.51642178e-02  4.84477875e-02 -6.60265022e-03 -2.22280615e-02\n",
            " -2.62941102e-02 -1.03913859e-01 -1.26651343e-02  6.73887863e-02\n",
            "  1.36911632e-01 -1.18833794e-01  1.39078531e-01  1.19762197e-01\n",
            " -8.77610213e-02  8.34752145e-02  2.00040040e-02 -9.62482281e-02\n",
            " -4.31651168e-02 -1.18374900e-01  1.53228864e-01  9.64642553e-02\n",
            "  7.48547890e-02 -1.25367193e-01  3.15867624e-02  2.56343516e-02\n",
            "  3.73857479e-02 -1.79289986e-01  1.86312850e-01  1.19968159e-01\n",
            " -5.25983373e-02 -6.21478846e-02  4.73814109e-02  8.89410948e-02\n",
            " -2.06676692e-01 -1.24191131e-01  1.51972683e-02 -8.07066812e-03\n",
            "  3.62637705e-02 -4.48554984e-02 -3.94081828e-02 -2.29006374e-02\n",
            "  1.28093447e-01  3.20306433e-02 -1.55682928e-02 -1.67576377e-01\n",
            "  1.52448392e-02 -4.63849372e-02  1.38413659e-02  3.49273140e-04\n",
            " -9.27744616e-02  9.52442889e-02 -1.20863300e-01 -3.55128537e-02\n",
            " -8.01035832e-02  6.08423317e-02  1.47401015e-01  1.21816059e-01\n",
            " -1.28564598e-02 -2.67907241e-02  1.51753624e-01  8.39854704e-02\n",
            "  1.83991556e-02  4.89198419e-03 -3.85755213e-03  2.61462827e-02\n",
            " -1.53777765e-01  1.59305606e-01  8.60809642e-02 -4.32745628e-02\n",
            "  1.91498835e-02 -4.34625916e-02 -1.58826201e-02  1.37021833e-01\n",
            "  1.21510518e-02 -9.90620263e-02 -1.72600076e-01  9.78714327e-02\n",
            " -4.91433861e-02  1.29428382e-01 -7.45795904e-02 -1.61310196e-01\n",
            "  2.63366881e-02  6.03154090e-02 -1.50677068e-02  1.18980787e-01\n",
            " -9.87177629e-02 -1.03911439e-01  3.65163996e-02  8.10950010e-02\n",
            "  1.40345828e-01  2.16504948e-01  1.01045797e-01  1.38760462e-01\n",
            " -5.53744261e-02  3.96036221e-02  1.06850367e-01  4.61199533e-02\n",
            " -4.00504160e-02 -2.30118540e-02 -2.26399488e-01 -1.23371934e-01\n",
            "  1.65996258e-02 -8.42554276e-02 -2.36101332e-02 -2.16186889e-01\n",
            " -1.60270488e-01 -6.69338545e-02  5.73684742e-02  1.05541867e-01\n",
            "  5.26303723e-03 -9.32090706e-02  1.17392163e-01 -4.95057696e-02\n",
            " -1.57585094e-02  6.61559659e-02  4.82480142e-02 -9.64698848e-03\n",
            " -1.95941202e-01 -9.45671801e-02  5.39981841e-03 -1.54821717e-01\n",
            " -1.50873167e-01  2.40350285e-01  1.03159529e-01 -8.01010608e-02\n",
            " -1.03031653e-01 -8.67261331e-02 -3.90319467e-02 -9.46880790e-02\n",
            " -4.67274298e-02  4.92223489e-02 -1.37855773e-01  1.18341208e-02\n",
            "  1.67719753e-02  8.18212956e-02 -5.05725458e-02 -4.08629526e-02\n",
            "  7.28451079e-03  1.64276361e-01  2.48768129e-01 -8.39211199e-02\n",
            " -1.73588299e-01 -8.62358143e-02  7.13516091e-02 -9.80013864e-02\n",
            "  1.07804021e-01 -8.00719463e-03 -1.50245660e-02  7.02807614e-02\n",
            "  5.64323200e-03 -1.02734323e-01 -1.08511503e-01  2.14340196e-03\n",
            " -7.03182186e-04  1.20887871e-01  1.81333575e-03 -1.13794173e-01\n",
            " -5.14314619e-02  4.90014785e-02 -5.56432335e-02  1.76936114e-01\n",
            " -1.12400198e-01  1.36232518e-01  2.78247399e-02  2.88924110e-02\n",
            "  1.03100162e-01 -6.64806049e-02 -9.75207436e-02  7.90125582e-02\n",
            "  3.67021347e-03 -3.31163077e-03 -1.52382773e-01  4.81451715e-02\n",
            "  1.36861637e-01 -2.36533990e-01  1.17842497e-01  9.82449094e-02\n",
            "  7.11719303e-02  3.57589586e-02 -5.16214202e-03  6.48779770e-02\n",
            "  1.41598636e-02  5.78915745e-02  1.99879443e-02 -1.02519787e-01\n",
            "  1.18354753e-01 -7.95225376e-03 -1.78892049e-01  5.87611955e-03\n",
            " -2.12618481e-02 -8.04498260e-02 -1.36911549e-01  1.93347987e-01\n",
            " -1.46801934e-02 -1.10533995e-02  1.83697463e-01 -4.64889744e-02\n",
            " -5.56218094e-02  6.93298079e-02 -1.21965270e-01 -4.72887633e-03\n",
            "  3.36703955e-02 -8.83145597e-03  2.35178799e-02 -8.27378065e-02\n",
            " -4.01564180e-02 -6.13338425e-04 -2.30427690e-01  2.43208232e-01\n",
            " -2.62197731e-02  1.04104335e-01  8.28176974e-02  7.50456290e-02\n",
            " -5.73266019e-02 -1.49337713e-01 -4.15289625e-02 -8.10366581e-02\n",
            "  5.82905049e-02  2.11963890e-02 -2.78951690e-02  3.70202047e-02\n",
            " -1.18525702e-01  2.21208652e-02  2.66940994e-03 -1.53838251e-01\n",
            "  8.77375187e-02  1.35373118e-01  4.03764588e-02 -1.43407836e-01\n",
            " -4.41389340e-03 -1.86827186e-01  4.77472075e-02 -1.26261616e-01\n",
            " -1.37243441e-01  3.57702520e-02  7.15500603e-03  6.69198503e-02\n",
            "  5.55400621e-02  5.44571532e-02 -5.91447116e-02 -1.60683646e-01\n",
            " -3.17608102e-02 -1.71407552e-01  1.15266608e-01  2.92172834e-02\n",
            " -4.81333314e-03  3.34007721e-02 -1.34680162e-01  4.58493137e-02\n",
            "  4.73175986e-02  1.32515093e-02 -1.34058007e-02  2.39060379e-01\n",
            "  2.03388076e-01  1.29655478e-01  8.15930096e-02  3.64436331e-02\n",
            " -5.43437982e-02 -1.10504612e-01 -9.73155096e-02  1.29757205e-01\n",
            "  9.42824939e-02 -1.81549874e-01 -1.38345770e-01  1.63259381e-01\n",
            "  3.95338747e-02  1.35496056e-01 -1.41072744e-01  1.06445750e-01\n",
            " -7.24249619e-02  2.56653872e-03 -3.26167526e-02  5.19946703e-02\n",
            " -2.12123036e-02 -3.99957104e-02 -1.60876574e-02  6.36335467e-02\n",
            "  8.33407583e-03  7.26519832e-02 -1.18094290e-01 -7.31159590e-02\n",
            " -1.03861173e-01  2.37991664e-01 -7.61877142e-02 -2.29354064e-02\n",
            "  1.63379660e-01  5.30385140e-02 -6.76095428e-02  1.35101750e-01\n",
            "  1.46291830e-01  1.22522097e-01  3.40058632e-02  2.12996532e-02\n",
            "  1.66624817e-02  4.56752677e-03 -3.38383149e-02 -7.29897398e-03\n",
            " -6.01399693e-02 -4.14639284e-02 -5.99805230e-02  2.36619463e-02\n",
            "  1.25020501e-01 -6.32602670e-02  2.28866609e-02  3.59316896e-02\n",
            " -1.49700464e-01 -1.43768418e-02  1.60096845e-01  1.88411691e-01\n",
            "  2.80834973e-02 -9.27932188e-02  5.28213731e-02 -1.02843641e-01\n",
            " -8.70605490e-02 -1.99988140e-02  1.24184648e-01  2.57558592e-01\n",
            " -1.71717865e-01  2.47131464e-02 -2.19919640e-01 -2.60879957e-02\n",
            " -2.72591200e-02  1.24023276e-01  2.30813903e-02  9.81400419e-02\n",
            " -1.74537175e-01  1.01816191e-01 -1.40750408e-01  2.53119853e-01\n",
            "  9.20723236e-02 -9.03480071e-03 -2.18070717e-04 -5.97348339e-02\n",
            "  9.03100492e-02 -8.05626906e-02 -1.15677626e-01  5.42878400e-03\n",
            "  2.08640773e-02  3.59788874e-02  1.19099942e-02 -7.86205810e-02\n",
            " -7.66494960e-02 -6.38456454e-02  2.47530448e-02 -4.65767105e-02\n",
            " -9.86589260e-03  2.24813773e-02 -1.09910813e-01 -2.97553098e-04\n",
            " -1.44565977e-01 -8.13755023e-02  1.23415289e-01 -1.41685941e-01\n",
            "  6.88201530e-02  1.65058719e-01 -5.54793122e-02 -1.04291685e-02\n",
            "  4.32173771e-02  2.63996782e-02  1.63086537e-01 -2.71671419e-02\n",
            " -5.16107836e-02 -7.38970101e-02 -4.66083952e-02  8.46651281e-02\n",
            "  2.06663817e-02  2.67251818e-03  1.51944377e-01 -9.86880248e-02\n",
            "  5.74474072e-02  6.59632647e-02 -1.95963346e-02  7.59656427e-02]\n",
            "-0.029614011831706716\n",
            "Accuracy\n",
            "1.0\n"
          ],
          "name": "stdout"
        }
      ]
    },
    {
      "metadata": {
        "id": "VBz0KYRprQ2u",
        "colab_type": "text"
      },
      "cell_type": "markdown",
      "source": [
        "Derivatives can be described just as easily"
      ]
    },
    {
      "metadata": {
        "id": "wQuzq5mvpaP3",
        "colab_type": "code",
        "colab": {
          "autoexec": {
            "startup": false,
            "wait_interval": 0
          },
          "base_uri": "https://localhost:8080/",
          "height": 34
        },
        "outputId": "bb936180-ee15-4c04-b23d-69126da69f7b",
        "executionInfo": {
          "status": "ok",
          "timestamp": 1528090853774,
          "user_tz": 420,
          "elapsed": 1338,
          "user": {
            "displayName": "Hasitha Chikkala",
            "photoUrl": "https://lh3.googleusercontent.com/a/default-user=s128",
            "userId": "105699343881197014514"
          }
        }
      },
      "cell_type": "code",
      "source": [
        "x = T.dscalar('x')\n",
        "y = x ** 2\n",
        "gy = T.grad(y, x)\n",
        "pp(gy)\n",
        "f = theano.function([x], gy)\n",
        "f(4) # - here the derivative will just be 2*x "
      ],
      "execution_count": 7,
      "outputs": [
        {
          "output_type": "execute_result",
          "data": {
            "text/plain": [
              "array(8.)"
            ]
          },
          "metadata": {
            "tags": []
          },
          "execution_count": 7
        }
      ]
    },
    {
      "metadata": {
        "id": "k7F0KgACrcBv",
        "colab_type": "code",
        "colab": {
          "autoexec": {
            "startup": false,
            "wait_interval": 0
          },
          "base_uri": "https://localhost:8080/",
          "height": 34
        },
        "outputId": "5a72405b-cb25-4590-ab72-eb662b2d8f87",
        "executionInfo": {
          "status": "ok",
          "timestamp": 1528063738274,
          "user_tz": 420,
          "elapsed": 375,
          "user": {
            "displayName": "Hasitha Chikkala",
            "photoUrl": "https://lh3.googleusercontent.com/a/default-user=s128",
            "userId": "105699343881197014514"
          }
        }
      },
      "cell_type": "code",
      "source": [
        "pp(f.maker.fgraph.outputs[0]) # as we can see the optimiser simplified the function to 2 * x"
      ],
      "execution_count": 67,
      "outputs": [
        {
          "output_type": "execute_result",
          "data": {
            "text/plain": [
              "'(TensorConstant{2.0} * x)'"
            ]
          },
          "metadata": {
            "tags": []
          },
          "execution_count": 67
        }
      ]
    },
    {
      "metadata": {
        "id": "_Rkl214dRBDd",
        "colab_type": "text"
      },
      "cell_type": "markdown",
      "source": [
        "Another Example "
      ]
    },
    {
      "metadata": {
        "id": "hlEsAUrGsj-R",
        "colab_type": "code",
        "colab": {
          "autoexec": {
            "startup": false,
            "wait_interval": 0
          },
          "base_uri": "https://localhost:8080/",
          "height": 51
        },
        "outputId": "68f7be47-6cf1-48e3-849d-96a70149eaf9",
        "executionInfo": {
          "status": "ok",
          "timestamp": 1528090863195,
          "user_tz": 420,
          "elapsed": 666,
          "user": {
            "displayName": "Hasitha Chikkala",
            "photoUrl": "https://lh3.googleusercontent.com/a/default-user=s128",
            "userId": "105699343881197014514"
          }
        }
      },
      "cell_type": "code",
      "source": [
        "x = T.dmatrix('x')\n",
        "s = T.sum(1 / (1 + T.exp(-x)))\n",
        "gs = T.grad(s, x) #The second argument to T.grad can also be a list and it gives a list of corresponding derivative values as an output\n",
        "dlogistic = theano.function([x], gs)\n",
        "dlogistic([[0, 1], [-1, -2]])"
      ],
      "execution_count": 9,
      "outputs": [
        {
          "output_type": "execute_result",
          "data": {
            "text/plain": [
              "array([[0.25      , 0.19661193],\n",
              "       [0.19661193, 0.10499359]])"
            ]
          },
          "metadata": {
            "tags": []
          },
          "execution_count": 9
        }
      ]
    },
    {
      "metadata": {
        "id": "VkWwOWLYRm0H",
        "colab_type": "text"
      },
      "cell_type": "markdown",
      "source": [
        "Computing Jacobian "
      ]
    },
    {
      "metadata": {
        "id": "e9zLNEftRKQ4",
        "colab_type": "code",
        "colab": {
          "autoexec": {
            "startup": false,
            "wait_interval": 0
          },
          "base_uri": "https://localhost:8080/",
          "height": 51
        },
        "outputId": "7b22518a-7f9f-48f9-9414-043aac18a571",
        "executionInfo": {
          "status": "ok",
          "timestamp": 1528090883770,
          "user_tz": 420,
          "elapsed": 17745,
          "user": {
            "displayName": "Hasitha Chikkala",
            "photoUrl": "https://lh3.googleusercontent.com/a/default-user=s128",
            "userId": "105699343881197014514"
          }
        }
      },
      "cell_type": "code",
      "source": [
        "x = T.dvector('x')\n",
        "y = x ** 2\n",
        "J, updates = theano.scan(lambda i, y, x : T.grad(y[i], x), sequences=T.arange(y.shape[0]), non_sequences=[y, x])\n",
        "f = theano.function([x], J, updates=updates)\n",
        "f([4, 4])"
      ],
      "execution_count": 10,
      "outputs": [
        {
          "output_type": "execute_result",
          "data": {
            "text/plain": [
              "array([[8., 0.],\n",
              "       [0., 8.]])"
            ]
          },
          "metadata": {
            "tags": []
          },
          "execution_count": 10
        }
      ]
    },
    {
      "metadata": {
        "id": "GX3TdVysWTtR",
        "colab_type": "text"
      },
      "cell_type": "markdown",
      "source": [
        "What we do in this code is to generate a sequence of ints from 0 to y.shape[0] using T.arange. Then we loop through this sequence, and at each step, we compute the gradient of element y[i] with respect to x. scan automatically concatenates all these rows, generating a matrix which corresponds to the Jacobian. However, there is also a direct function - theano.tensor.jacobian\n",
        "\n",
        "\n",
        "Computing the Hessian matrix"
      ]
    },
    {
      "metadata": {
        "id": "84DVzpMHRzmM",
        "colab_type": "code",
        "colab": {
          "autoexec": {
            "startup": false,
            "wait_interval": 0
          },
          "base_uri": "https://localhost:8080/",
          "height": 51
        },
        "outputId": "3cfaead9-0178-48e6-cbc9-4b567bb2936c",
        "executionInfo": {
          "status": "ok",
          "timestamp": 1528091739918,
          "user_tz": 420,
          "elapsed": 3289,
          "user": {
            "displayName": "Hasitha Chikkala",
            "photoUrl": "https://lh3.googleusercontent.com/a/default-user=s128",
            "userId": "105699343881197014514"
          }
        }
      },
      "cell_type": "code",
      "source": [
        "x = T.dvector('x')\n",
        "y = x ** 2\n",
        "cost = y.sum()\n",
        "gy = T.grad(cost, x)\n",
        "H, updates = theano.scan(lambda i, gy,x : T.grad(gy[i], x), sequences=T.arange(gy.shape[0]), non_sequences=[gy, x])\n",
        "f = theano.function([x], H, updates=updates)\n",
        "f([4, 4])"
      ],
      "execution_count": 11,
      "outputs": [
        {
          "output_type": "execute_result",
          "data": {
            "text/plain": [
              "array([[2., 0.],\n",
              "       [0., 2.]])"
            ]
          },
          "metadata": {
            "tags": []
          },
          "execution_count": 11
        }
      ]
    },
    {
      "metadata": {
        "id": "YfdtMvYtY6aC",
        "colab_type": "text"
      },
      "cell_type": "markdown",
      "source": [
        "The R operator is built to evaluate the product between a Jacobian and a vector, namely \\frac{\\partial f(x)}{\\partial x} v. In order to evaluate the R-operation of expression y, with respect to x, multiplying the Jacobian with v you need to do "
      ]
    },
    {
      "metadata": {
        "id": "gBXgvMoXY7zN",
        "colab_type": "code",
        "colab": {
          "autoexec": {
            "startup": false,
            "wait_interval": 0
          },
          "base_uri": "https://localhost:8080/",
          "height": 34
        },
        "outputId": "8d721607-8330-46a4-c456-271135fce399",
        "executionInfo": {
          "status": "ok",
          "timestamp": 1528092214195,
          "user_tz": 420,
          "elapsed": 1642,
          "user": {
            "displayName": "Hasitha Chikkala",
            "photoUrl": "https://lh3.googleusercontent.com/a/default-user=s128",
            "userId": "105699343881197014514"
          }
        }
      },
      "cell_type": "code",
      "source": [
        "W = T.dmatrix('W')\n",
        "V = T.dmatrix('V')\n",
        "x = T.dvector('x')\n",
        "y = T.dot(x, W)\n",
        "JV = T.Rop(y, W, V)\n",
        "f = theano.function([W, V, x], JV)\n",
        "f([[1, 1], [1, 1]], [[2, 2], [2, 2]], [0,1])"
      ],
      "execution_count": 12,
      "outputs": [
        {
          "output_type": "execute_result",
          "data": {
            "text/plain": [
              "array([2., 2.])"
            ]
          },
          "metadata": {
            "tags": []
          },
          "execution_count": 12
        }
      ]
    },
    {
      "metadata": {
        "id": "mDTn24jPZgus",
        "colab_type": "text"
      },
      "cell_type": "markdown",
      "source": [
        "In similitude to the R-operator, the L-operator would compute a row vector times the Jacobian. The mathematical formula would be v \\frac{\\partial\n",
        "f(x)}{\\partial x}. "
      ]
    },
    {
      "metadata": {
        "id": "HfbbCYkIZLww",
        "colab_type": "code",
        "colab": {
          "autoexec": {
            "startup": false,
            "wait_interval": 0
          },
          "base_uri": "https://localhost:8080/",
          "height": 51
        },
        "outputId": "9610b19a-a3de-48b2-b97a-3e00f5560dc2",
        "executionInfo": {
          "status": "ok",
          "timestamp": 1528092764403,
          "user_tz": 420,
          "elapsed": 500,
          "user": {
            "displayName": "Hasitha Chikkala",
            "photoUrl": "https://lh3.googleusercontent.com/a/default-user=s128",
            "userId": "105699343881197014514"
          }
        }
      },
      "cell_type": "code",
      "source": [
        "W = T.dmatrix('W')\n",
        "v = T.dvector('v')\n",
        "x = T.dvector('x')\n",
        "y = T.dot(x, W)\n",
        "VJ = T.Lop(y, W, v)\n",
        "f = theano.function([v,x], VJ)\n",
        "f([2, 2], [0, 1])"
      ],
      "execution_count": 15,
      "outputs": [
        {
          "output_type": "execute_result",
          "data": {
            "text/plain": [
              "array([[0., 0.],\n",
              "       [2., 2.]])"
            ]
          },
          "metadata": {
            "tags": []
          },
          "execution_count": 15
        }
      ]
    },
    {
      "metadata": {
        "id": "ztW4QmMKa7G4",
        "colab_type": "text"
      },
      "cell_type": "markdown",
      "source": [
        "Hessian times a Vector "
      ]
    },
    {
      "metadata": {
        "id": "-J9chGfMZqwu",
        "colab_type": "code",
        "colab": {
          "autoexec": {
            "startup": false,
            "wait_interval": 0
          },
          "base_uri": "https://localhost:8080/",
          "height": 34
        },
        "outputId": "fb353ce6-1c8f-46db-b220-223d6f8216f1",
        "executionInfo": {
          "status": "ok",
          "timestamp": 1528092807899,
          "user_tz": 420,
          "elapsed": 576,
          "user": {
            "displayName": "Hasitha Chikkala",
            "photoUrl": "https://lh3.googleusercontent.com/a/default-user=s128",
            "userId": "105699343881197014514"
          }
        }
      },
      "cell_type": "code",
      "source": [
        "x = T.dvector('x')\n",
        "v = T.dvector('v')\n",
        "y = T.sum(x ** 2)\n",
        "gy = T.grad(y, x)\n",
        "vH = T.grad(T.sum(gy * v), x)\n",
        "f = theano.function([x, v], vH)\n",
        "f([4, 4], [2, 2]) #or R operator can be used too "
      ],
      "execution_count": 16,
      "outputs": [
        {
          "output_type": "execute_result",
          "data": {
            "text/plain": [
              "array([4., 4.])"
            ]
          },
          "metadata": {
            "tags": []
          },
          "execution_count": 16
        }
      ]
    },
    {
      "metadata": {
        "id": "-71DRUc2bppR",
        "colab_type": "text"
      },
      "cell_type": "markdown",
      "source": [
        "Work is in progress to build a full hessian or jacobian complete matrix optimally \n",
        "\n",
        "\n",
        "If-Else and Switch "
      ]
    },
    {
      "metadata": {
        "id": "FN6WIz4SbGKc",
        "colab_type": "code",
        "colab": {
          "autoexec": {
            "startup": false,
            "wait_interval": 0
          },
          "base_uri": "https://localhost:8080/",
          "height": 51
        },
        "outputId": "03095433-a085-4c71-932f-b4e64aea28fa",
        "executionInfo": {
          "status": "ok",
          "timestamp": 1528093152383,
          "user_tz": 420,
          "elapsed": 6683,
          "user": {
            "displayName": "Hasitha Chikkala",
            "photoUrl": "https://lh3.googleusercontent.com/a/default-user=s128",
            "userId": "105699343881197014514"
          }
        }
      },
      "cell_type": "code",
      "source": [
        "from theano import tensor as T\n",
        "from theano.ifelse import ifelse\n",
        "import theano, time, numpy\n",
        "\n",
        "a,b = T.scalars('a', 'b')\n",
        "x,y = T.matrices('x', 'y')\n",
        "\n",
        "z_switch = T.switch(T.lt(a, b), T.mean(x), T.mean(y))\n",
        "z_lazy = ifelse(T.lt(a, b), T.mean(x), T.mean(y))\n",
        "\n",
        "f_switch = theano.function([a, b, x, y], z_switch,\n",
        "                           mode=theano.Mode(linker='vm'))\n",
        "f_lazyifelse = theano.function([a, b, x, y], z_lazy,\n",
        "                               mode=theano.Mode(linker='vm'))\n",
        "\n",
        "val1 = 0.\n",
        "val2 = 1.\n",
        "big_mat1 = numpy.ones((10000, 1000))\n",
        "big_mat2 = numpy.ones((10000, 1000))\n",
        "\n",
        "n_times = 10\n",
        "\n",
        "tic = time.clock()\n",
        "for i in range(n_times):\n",
        "    f_switch(val1, val2, big_mat1, big_mat2)\n",
        "print('time spent evaluating both values %f sec' % (time.clock() - tic))\n",
        "\n",
        "tic = time.clock()\n",
        "for i in range(n_times):\n",
        "    f_lazyifelse(val1, val2, big_mat1, big_mat2)\n",
        "print('time spent evaluating one value %f sec' % (time.clock() - tic))"
      ],
      "execution_count": 17,
      "outputs": [
        {
          "output_type": "stream",
          "text": [
            "time spent evaluating both values 0.365559 sec\n",
            "time spent evaluating one value 0.189599 sec\n"
          ],
          "name": "stdout"
        }
      ]
    },
    {
      "metadata": {
        "id": "cssYttClfim4",
        "colab_type": "text"
      },
      "cell_type": "markdown",
      "source": [
        "In this example, the IfElse op spends less time (about half as much) than Switch since it computes only one variable out of the two. This is because switch evaluates both the output variables, while ifelse evaluates only one output variable. \n",
        "\n",
        "\n",
        "Loops : scan \n",
        "\n",
        "Advantages of using scan over for loops:\n",
        "Number of iterations to be part of the symbolic graph.\n",
        "Minimizes GPU transfers (if GPU is involved).\n",
        "Computes gradients through sequential steps.\n",
        "Slightly faster than using a for loop in Python with a compiled Theano function.\n",
        "Can lower the overall memory usage by detecting the actual amount of memory needed."
      ]
    },
    {
      "metadata": {
        "id": "dZvjI5uKcvkF",
        "colab_type": "code",
        "colab": {
          "autoexec": {
            "startup": false,
            "wait_interval": 0
          },
          "base_uri": "https://localhost:8080/",
          "height": 85
        },
        "outputId": "89d2f321-b3dd-4bb0-ac8b-157549f90877",
        "executionInfo": {
          "status": "ok",
          "timestamp": 1528094442532,
          "user_tz": 420,
          "elapsed": 654,
          "user": {
            "displayName": "Hasitha Chikkala",
            "photoUrl": "https://lh3.googleusercontent.com/a/default-user=s128",
            "userId": "105699343881197014514"
          }
        }
      },
      "cell_type": "code",
      "source": [
        "import numpy as np\n",
        "# defining the tensor variables\n",
        "X = T.matrix(\"X\")\n",
        "W = T.matrix(\"W\")\n",
        "b_sym = T.vector(\"b_sym\")\n",
        "\n",
        "results, updates = theano.scan(lambda v: T.tanh(T.dot(v, W) + b_sym), sequences=X)\n",
        "compute_elementwise = theano.function(inputs=[X, W, b_sym], outputs=results)\n",
        "\n",
        "# test values\n",
        "x = np.eye(2, dtype=theano.config.floatX)\n",
        "w = np.ones((2, 2), dtype=theano.config.floatX)\n",
        "b = np.ones((2), dtype=theano.config.floatX)\n",
        "b[1] = 2\n",
        "\n",
        "print(compute_elementwise(x, w, b))\n",
        "\n",
        "# comparison with numpy\n",
        "print(np.tanh(x.dot(w) + b))"
      ],
      "execution_count": 19,
      "outputs": [
        {
          "output_type": "stream",
          "text": [
            "[[0.96402758 0.99505475]\n",
            " [0.96402758 0.99505475]]\n",
            "[[0.96402758 0.99505475]\n",
            " [0.96402758 0.99505475]]\n"
          ],
          "name": "stdout"
        }
      ]
    },
    {
      "metadata": {
        "id": "B43v7_l5nZeq",
        "colab_type": "text"
      },
      "cell_type": "markdown",
      "source": [
        "Computing the sequence x(t) = tanh(x(t - 1).dot(W) + y(t).dot(U) + p(T - t).dot(V))"
      ]
    },
    {
      "metadata": {
        "id": "4Zt7eUfyhovk",
        "colab_type": "code",
        "colab": {
          "autoexec": {
            "startup": false,
            "wait_interval": 0
          },
          "base_uri": "https://localhost:8080/",
          "height": 187
        },
        "outputId": "faa6a995-9f0f-445b-d7fa-731815587cc9",
        "executionInfo": {
          "status": "ok",
          "timestamp": 1528096244116,
          "user_tz": 420,
          "elapsed": 19926,
          "user": {
            "displayName": "Hasitha Chikkala",
            "photoUrl": "https://lh3.googleusercontent.com/a/default-user=s128",
            "userId": "105699343881197014514"
          }
        }
      },
      "cell_type": "code",
      "source": [
        "X = T.vector(\"X\")\n",
        "W = T.matrix(\"W\")\n",
        "b_sym = T.vector(\"b_sym\")\n",
        "U = T.matrix(\"U\")\n",
        "Y = T.matrix(\"Y\")\n",
        "V = T.matrix(\"V\")\n",
        "P = T.matrix(\"P\")\n",
        "\n",
        "results, updates = theano.scan(lambda y, p, x_tm1: T.tanh(T.dot(x_tm1, W) + T.dot(y, U) + T.dot(p, V)),\n",
        "          sequences=[Y, P[::-1]], outputs_info=[X])\n",
        "compute_seq = theano.function(inputs=[X, W, Y, U, P, V], outputs=results)\n",
        "\n",
        "# test values\n",
        "x = np.zeros((2), dtype=theano.config.floatX)\n",
        "x[1] = 1\n",
        "w = np.ones((2, 2), dtype=theano.config.floatX)\n",
        "y = np.ones((5, 2), dtype=theano.config.floatX)\n",
        "y[0, :] = -3\n",
        "u = np.ones((2, 2), dtype=theano.config.floatX)\n",
        "p = np.ones((5, 2), dtype=theano.config.floatX)\n",
        "p[0, :] = 3\n",
        "v = np.ones((2, 2), dtype=theano.config.floatX)\n",
        "\n",
        "print(compute_seq(x, w, y, u, p, v))\n",
        "\n",
        "# comparison with numpy\n",
        "x_res = np.zeros((5, 2), dtype=theano.config.floatX)\n",
        "x_res[0] = np.tanh(x.dot(w) + y[0].dot(u) + p[4].dot(v))\n",
        "for i in range(1, 5):\n",
        "    x_res[i] = np.tanh(x_res[i - 1].dot(w) + y[i].dot(u) + p[4-i].dot(v))\n",
        "print(x_res)"
      ],
      "execution_count": 20,
      "outputs": [
        {
          "output_type": "stream",
          "text": [
            "[[-0.99505475 -0.99505475]\n",
            " [ 0.96471973  0.96471973]\n",
            " [ 0.99998585  0.99998585]\n",
            " [ 0.99998771  0.99998771]\n",
            " [ 1.          1.        ]]\n",
            "[[-0.99505475 -0.99505475]\n",
            " [ 0.96471973  0.96471973]\n",
            " [ 0.99998585  0.99998585]\n",
            " [ 0.99998771  0.99998771]\n",
            " [ 1.          1.        ]]\n"
          ],
          "name": "stdout"
        }
      ]
    },
    {
      "metadata": {
        "id": "tLgB1Pp3vdR2",
        "colab_type": "text"
      },
      "cell_type": "markdown",
      "source": [
        "Currently, information regarding shape is used in two ways in Theano:\n",
        "\n",
        "To generate faster C code for the 2d convolution on the CPU and the GPU, when the exact output shape is known in advance.\n",
        "\n",
        "To remove computations in the graph when we only want to know the shape, but not the actual value of a variable. This is done with the Op.infer_shape method."
      ]
    },
    {
      "metadata": {
        "id": "MwBJjcAhqP37",
        "colab_type": "code",
        "colab": {
          "autoexec": {
            "startup": false,
            "wait_interval": 0
          },
          "base_uri": "https://localhost:8080/",
          "height": 153
        },
        "outputId": "f80e6fbc-49a9-4fd2-cee1-ec2a8ef0ab9f",
        "executionInfo": {
          "status": "ok",
          "timestamp": 1528098213609,
          "user_tz": 420,
          "elapsed": 1532,
          "user": {
            "displayName": "Hasitha Chikkala",
            "photoUrl": "https://lh3.googleusercontent.com/a/default-user=s128",
            "userId": "105699343881197014514"
          }
        }
      },
      "cell_type": "code",
      "source": [
        "x = theano.tensor.matrix('x')\n",
        "y = theano.tensor.matrix('y')\n",
        "z = theano.tensor.join(0, x, y)\n",
        "xv = numpy.random.rand(5, 4)\n",
        "yv = numpy.random.rand(3, 3)\n",
        "f = theano.function([x, y], z.shape)   #Does not throw error as it should \n",
        "theano.printing.debugprint(f)\n",
        "f(xv,yv)"
      ],
      "execution_count": 24,
      "outputs": [
        {
          "output_type": "stream",
          "text": [
            "MakeVector{dtype='int64'} [id A] ''   4\n",
            " |Elemwise{Add}[(0, 0)] [id B] ''   3\n",
            " | |Shape_i{0} [id C] ''   2\n",
            " | | |x [id D]\n",
            " | |Shape_i{0} [id E] ''   1\n",
            " |   |y [id F]\n",
            " |Shape_i{1} [id G] ''   0\n",
            "   |x [id D]\n"
          ],
          "name": "stdout"
        }
      ]
    },
    {
      "metadata": {
        "id": "cvCIa1K-wAjZ",
        "colab_type": "code",
        "colab": {
          "autoexec": {
            "startup": false,
            "wait_interval": 0
          },
          "base_uri": "https://localhost:8080/",
          "height": 1370
        },
        "outputId": "66964373-028a-498b-ef61-9f10e2c5073d",
        "executionInfo": {
          "status": "error",
          "timestamp": 1528098308577,
          "user_tz": 420,
          "elapsed": 1150,
          "user": {
            "displayName": "Hasitha Chikkala",
            "photoUrl": "https://lh3.googleusercontent.com/a/default-user=s128",
            "userId": "105699343881197014514"
          }
        }
      },
      "cell_type": "code",
      "source": [
        "f = theano.function([x,y], z)# Do not take the shape.\n",
        "theano.printing.debugprint(f)\n",
        "f(xv,yv)"
      ],
      "execution_count": 25,
      "outputs": [
        {
          "output_type": "stream",
          "text": [
            "Join [id A] ''   0\n",
            " |TensorConstant{0} [id B]\n",
            " |x [id C]\n",
            " |y [id D]\n"
          ],
          "name": "stdout"
        },
        {
          "output_type": "error",
          "ename": "ValueError",
          "evalue": "ignored",
          "traceback": [
            "\u001b[0;31m---------------------------------------------------------------------------\u001b[0m",
            "\u001b[0;31mValueError\u001b[0m                                Traceback (most recent call last)",
            "\u001b[0;32m/usr/local/lib/python3.6/dist-packages/theano/compile/function_module.py\u001b[0m in \u001b[0;36m__call__\u001b[0;34m(self, *args, **kwargs)\u001b[0m\n\u001b[1;32m    902\u001b[0m             \u001b[0moutputs\u001b[0m \u001b[0;34m=\u001b[0m\u001b[0;31m\\\u001b[0m\u001b[0;34m\u001b[0m\u001b[0m\n\u001b[0;32m--> 903\u001b[0;31m                 \u001b[0mself\u001b[0m\u001b[0;34m.\u001b[0m\u001b[0mfn\u001b[0m\u001b[0;34m(\u001b[0m\u001b[0;34m)\u001b[0m \u001b[0;32mif\u001b[0m \u001b[0moutput_subset\u001b[0m \u001b[0;32mis\u001b[0m \u001b[0;32mNone\u001b[0m \u001b[0;32melse\u001b[0m\u001b[0;31m\\\u001b[0m\u001b[0;34m\u001b[0m\u001b[0m\n\u001b[0m\u001b[1;32m    904\u001b[0m                 \u001b[0mself\u001b[0m\u001b[0;34m.\u001b[0m\u001b[0mfn\u001b[0m\u001b[0;34m(\u001b[0m\u001b[0moutput_subset\u001b[0m\u001b[0;34m=\u001b[0m\u001b[0moutput_subset\u001b[0m\u001b[0;34m)\u001b[0m\u001b[0;34m\u001b[0m\u001b[0m\n",
            "\u001b[0;31mValueError\u001b[0m: all the input array dimensions except for the concatenation axis must match exactly",
            "\nDuring handling of the above exception, another exception occurred:\n",
            "\u001b[0;31mValueError\u001b[0m                                Traceback (most recent call last)",
            "\u001b[0;32m<ipython-input-25-c91b6f3d6a5e>\u001b[0m in \u001b[0;36m<module>\u001b[0;34m()\u001b[0m\n\u001b[1;32m      1\u001b[0m \u001b[0mf\u001b[0m \u001b[0;34m=\u001b[0m \u001b[0mtheano\u001b[0m\u001b[0;34m.\u001b[0m\u001b[0mfunction\u001b[0m\u001b[0;34m(\u001b[0m\u001b[0;34m[\u001b[0m\u001b[0mx\u001b[0m\u001b[0;34m,\u001b[0m\u001b[0my\u001b[0m\u001b[0;34m]\u001b[0m\u001b[0;34m,\u001b[0m \u001b[0mz\u001b[0m\u001b[0;34m)\u001b[0m\u001b[0;31m# Do not take the shape.\u001b[0m\u001b[0;34m\u001b[0m\u001b[0m\n\u001b[1;32m      2\u001b[0m \u001b[0mtheano\u001b[0m\u001b[0;34m.\u001b[0m\u001b[0mprinting\u001b[0m\u001b[0;34m.\u001b[0m\u001b[0mdebugprint\u001b[0m\u001b[0;34m(\u001b[0m\u001b[0mf\u001b[0m\u001b[0;34m)\u001b[0m\u001b[0;34m\u001b[0m\u001b[0m\n\u001b[0;32m----> 3\u001b[0;31m \u001b[0mf\u001b[0m\u001b[0;34m(\u001b[0m\u001b[0mxv\u001b[0m\u001b[0;34m,\u001b[0m\u001b[0myv\u001b[0m\u001b[0;34m)\u001b[0m\u001b[0;34m\u001b[0m\u001b[0m\n\u001b[0m",
            "\u001b[0;32m/usr/local/lib/python3.6/dist-packages/theano/compile/function_module.py\u001b[0m in \u001b[0;36m__call__\u001b[0;34m(self, *args, **kwargs)\u001b[0m\n\u001b[1;32m    915\u001b[0m                     \u001b[0mnode\u001b[0m\u001b[0;34m=\u001b[0m\u001b[0mself\u001b[0m\u001b[0;34m.\u001b[0m\u001b[0mfn\u001b[0m\u001b[0;34m.\u001b[0m\u001b[0mnodes\u001b[0m\u001b[0;34m[\u001b[0m\u001b[0mself\u001b[0m\u001b[0;34m.\u001b[0m\u001b[0mfn\u001b[0m\u001b[0;34m.\u001b[0m\u001b[0mposition_of_error\u001b[0m\u001b[0;34m]\u001b[0m\u001b[0;34m,\u001b[0m\u001b[0;34m\u001b[0m\u001b[0m\n\u001b[1;32m    916\u001b[0m                     \u001b[0mthunk\u001b[0m\u001b[0;34m=\u001b[0m\u001b[0mthunk\u001b[0m\u001b[0;34m,\u001b[0m\u001b[0;34m\u001b[0m\u001b[0m\n\u001b[0;32m--> 917\u001b[0;31m                     storage_map=getattr(self.fn, 'storage_map', None))\n\u001b[0m\u001b[1;32m    918\u001b[0m             \u001b[0;32melse\u001b[0m\u001b[0;34m:\u001b[0m\u001b[0;34m\u001b[0m\u001b[0m\n\u001b[1;32m    919\u001b[0m                 \u001b[0;31m# old-style linkers raise their own exceptions\u001b[0m\u001b[0;34m\u001b[0m\u001b[0;34m\u001b[0m\u001b[0m\n",
            "\u001b[0;32m/usr/local/lib/python3.6/dist-packages/theano/gof/link.py\u001b[0m in \u001b[0;36mraise_with_op\u001b[0;34m(node, thunk, exc_info, storage_map)\u001b[0m\n\u001b[1;32m    323\u001b[0m         \u001b[0;31m# extra long error message in that case.\u001b[0m\u001b[0;34m\u001b[0m\u001b[0;34m\u001b[0m\u001b[0m\n\u001b[1;32m    324\u001b[0m         \u001b[0;32mpass\u001b[0m\u001b[0;34m\u001b[0m\u001b[0m\n\u001b[0;32m--> 325\u001b[0;31m     \u001b[0mreraise\u001b[0m\u001b[0;34m(\u001b[0m\u001b[0mexc_type\u001b[0m\u001b[0;34m,\u001b[0m \u001b[0mexc_value\u001b[0m\u001b[0;34m,\u001b[0m \u001b[0mexc_trace\u001b[0m\u001b[0;34m)\u001b[0m\u001b[0;34m\u001b[0m\u001b[0m\n\u001b[0m\u001b[1;32m    326\u001b[0m \u001b[0;34m\u001b[0m\u001b[0m\n\u001b[1;32m    327\u001b[0m \u001b[0;34m\u001b[0m\u001b[0m\n",
            "\u001b[0;32m/usr/local/lib/python3.6/dist-packages/six.py\u001b[0m in \u001b[0;36mreraise\u001b[0;34m(tp, value, tb)\u001b[0m\n\u001b[1;32m    690\u001b[0m                 \u001b[0mvalue\u001b[0m \u001b[0;34m=\u001b[0m \u001b[0mtp\u001b[0m\u001b[0;34m(\u001b[0m\u001b[0;34m)\u001b[0m\u001b[0;34m\u001b[0m\u001b[0m\n\u001b[1;32m    691\u001b[0m             \u001b[0;32mif\u001b[0m \u001b[0mvalue\u001b[0m\u001b[0;34m.\u001b[0m\u001b[0m__traceback__\u001b[0m \u001b[0;32mis\u001b[0m \u001b[0;32mnot\u001b[0m \u001b[0mtb\u001b[0m\u001b[0;34m:\u001b[0m\u001b[0;34m\u001b[0m\u001b[0m\n\u001b[0;32m--> 692\u001b[0;31m                 \u001b[0;32mraise\u001b[0m \u001b[0mvalue\u001b[0m\u001b[0;34m.\u001b[0m\u001b[0mwith_traceback\u001b[0m\u001b[0;34m(\u001b[0m\u001b[0mtb\u001b[0m\u001b[0;34m)\u001b[0m\u001b[0;34m\u001b[0m\u001b[0m\n\u001b[0m\u001b[1;32m    693\u001b[0m             \u001b[0;32mraise\u001b[0m \u001b[0mvalue\u001b[0m\u001b[0;34m\u001b[0m\u001b[0m\n\u001b[1;32m    694\u001b[0m         \u001b[0;32mfinally\u001b[0m\u001b[0;34m:\u001b[0m\u001b[0;34m\u001b[0m\u001b[0m\n",
            "\u001b[0;32m/usr/local/lib/python3.6/dist-packages/theano/compile/function_module.py\u001b[0m in \u001b[0;36m__call__\u001b[0;34m(self, *args, **kwargs)\u001b[0m\n\u001b[1;32m    901\u001b[0m         \u001b[0;32mtry\u001b[0m\u001b[0;34m:\u001b[0m\u001b[0;34m\u001b[0m\u001b[0m\n\u001b[1;32m    902\u001b[0m             \u001b[0moutputs\u001b[0m \u001b[0;34m=\u001b[0m\u001b[0;31m\\\u001b[0m\u001b[0;34m\u001b[0m\u001b[0m\n\u001b[0;32m--> 903\u001b[0;31m                 \u001b[0mself\u001b[0m\u001b[0;34m.\u001b[0m\u001b[0mfn\u001b[0m\u001b[0;34m(\u001b[0m\u001b[0;34m)\u001b[0m \u001b[0;32mif\u001b[0m \u001b[0moutput_subset\u001b[0m \u001b[0;32mis\u001b[0m \u001b[0;32mNone\u001b[0m \u001b[0;32melse\u001b[0m\u001b[0;31m\\\u001b[0m\u001b[0;34m\u001b[0m\u001b[0m\n\u001b[0m\u001b[1;32m    904\u001b[0m                 \u001b[0mself\u001b[0m\u001b[0;34m.\u001b[0m\u001b[0mfn\u001b[0m\u001b[0;34m(\u001b[0m\u001b[0moutput_subset\u001b[0m\u001b[0;34m=\u001b[0m\u001b[0moutput_subset\u001b[0m\u001b[0;34m)\u001b[0m\u001b[0;34m\u001b[0m\u001b[0m\n\u001b[1;32m    905\u001b[0m         \u001b[0;32mexcept\u001b[0m \u001b[0mException\u001b[0m\u001b[0;34m:\u001b[0m\u001b[0;34m\u001b[0m\u001b[0m\n",
            "\u001b[0;31mValueError\u001b[0m: all the input array dimensions except for the concatenation axis must match exactly\nApply node that caused the error: Join(TensorConstant{0}, x, y)\nToposort index: 0\nInputs types: [TensorType(int8, scalar), TensorType(float64, matrix), TensorType(float64, matrix)]\nInputs shapes: [(), (5, 4), (3, 3)]\nInputs strides: [(), (32, 8), (24, 8)]\nInputs values: [array(0, dtype=int8), 'not shown', 'not shown']\nOutputs clients: [['output']]\n\nBacktrace when the node is created(use Theano flag traceback.limit=N to make it longer):\n  File \"/usr/local/lib/python3.6/dist-packages/ipykernel/kernelbase.py\", line 235, in dispatch_shell\n    handler(stream, idents, msg)\n  File \"/usr/local/lib/python3.6/dist-packages/ipykernel/kernelbase.py\", line 399, in execute_request\n    user_expressions, allow_stdin)\n  File \"/usr/local/lib/python3.6/dist-packages/ipykernel/ipkernel.py\", line 196, in do_execute\n    res = shell.run_cell(code, store_history=store_history, silent=silent)\n  File \"/usr/local/lib/python3.6/dist-packages/ipykernel/zmqshell.py\", line 533, in run_cell\n    return super(ZMQInteractiveShell, self).run_cell(*args, **kwargs)\n  File \"/usr/local/lib/python3.6/dist-packages/IPython/core/interactiveshell.py\", line 2718, in run_cell\n    interactivity=interactivity, compiler=compiler, result=result)\n  File \"/usr/local/lib/python3.6/dist-packages/IPython/core/interactiveshell.py\", line 2822, in run_ast_nodes\n    if self.run_code(code, result):\n  File \"/usr/local/lib/python3.6/dist-packages/IPython/core/interactiveshell.py\", line 2882, in run_code\n    exec(code_obj, self.user_global_ns, self.user_ns)\n  File \"<ipython-input-24-2e223cdc3e30>\", line 3, in <module>\n    z = theano.tensor.join(0, x, y)\n\nHINT: Use the Theano flag 'exception_verbosity=high' for a debugprint and storage map footprint of this apply node."
          ]
        }
      ]
    },
    {
      "metadata": {
        "id": "ftADOmqwwbvb",
        "colab_type": "code",
        "colab": {
          "autoexec": {
            "startup": false,
            "wait_interval": 0
          }
        }
      },
      "cell_type": "code",
      "source": [
        ""
      ],
      "execution_count": 0,
      "outputs": []
    }
  ]
}